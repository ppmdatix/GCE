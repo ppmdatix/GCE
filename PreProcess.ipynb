{
 "cells": [
  {
   "cell_type": "code",
   "execution_count": 36,
   "id": "underlying-telling",
   "metadata": {},
   "outputs": [],
   "source": [
    "# Requirements:\n",
    "# !pip install rtdl\n",
    "# !pip install libzero==0.0.4"
   ]
  },
  {
   "cell_type": "code",
   "execution_count": 1,
   "id": "scheduled-leone",
   "metadata": {},
   "outputs": [],
   "source": [
    "from typing import Any, Dict\n",
    "\n",
    "import numpy as np\n",
    "import rtdl\n",
    "import scipy.special\n",
    "import sklearn.datasets\n",
    "import sklearn.metrics\n",
    "import sklearn.model_selection\n",
    "import sklearn.preprocessing\n",
    "import torch\n",
    "import torch.nn as nn\n",
    "import torch.nn.functional as F\n",
    "import zero\n",
    "import pandas as pd"
   ]
  },
  {
   "cell_type": "code",
   "execution_count": 2,
   "id": "bigger-frame",
   "metadata": {},
   "outputs": [],
   "source": [
    "device = torch.device('cpu')\n",
    "# Docs: https://yura52.github.io/zero/0.0.4/reference/api/zero.improve_reproducibility.html\n",
    "# zero.improve_reproducibility(seed=123456)"
   ]
  },
  {
   "cell_type": "markdown",
   "id": "acquired-contractor",
   "metadata": {},
   "source": [
    "### Data"
   ]
  },
  {
   "cell_type": "code",
   "execution_count": 7,
   "id": "thorough-postcard",
   "metadata": {},
   "outputs": [
    {
     "name": "stdout",
     "output_type": "stream",
     "text": [
      "['labels']\n"
     ]
    }
   ],
   "source": [
    "from sklearn.datasets import fetch_kddcup99 \n",
    "data = fetch_kddcup99()\n",
    "\n",
    "from pprint import pprint\n",
    "print(list(data.target_names))"
   ]
  },
  {
   "cell_type": "code",
   "execution_count": 8,
   "id": "a712eb66",
   "metadata": {},
   "outputs": [],
   "source": [
    "df = pd.DataFrame(data.data, columns=data.feature_names)\n",
    "df[\"labels\"] = data.target\n",
    "df.to_csv(\"data/KDD99/fetch_kddcup99.csv\", index=False)"
   ]
  },
  {
   "cell_type": "code",
   "execution_count": 36,
   "id": "theoretical-index",
   "metadata": {},
   "outputs": [],
   "source": [
    "path = \"data/Forest_Cover/train_centered.csv\"\n",
    "\n",
    "target = \"Cover_Type\"\n",
    "df = pd.read_csv(path)"
   ]
  },
  {
   "cell_type": "code",
   "execution_count": 17,
   "id": "coated-nightlife",
   "metadata": {},
   "outputs": [
    {
     "ename": "KeyError",
     "evalue": "'labels'",
     "output_type": "error",
     "traceback": [
      "\u001b[0;31m---------------------------------------------------------------------------\u001b[0m",
      "\u001b[0;31mKeyError\u001b[0m                                  Traceback (most recent call last)",
      "File \u001b[0;32m~/opt/miniconda3/envs/rtdl/lib/python3.8/site-packages/pandas/core/indexes/base.py:3080\u001b[0m, in \u001b[0;36mIndex.get_loc\u001b[0;34m(self, key, method, tolerance)\u001b[0m\n\u001b[1;32m   3079\u001b[0m \u001b[38;5;28;01mtry\u001b[39;00m:\n\u001b[0;32m-> 3080\u001b[0m     \u001b[38;5;28;01mreturn\u001b[39;00m \u001b[38;5;28;43mself\u001b[39;49m\u001b[38;5;241;43m.\u001b[39;49m\u001b[43m_engine\u001b[49m\u001b[38;5;241;43m.\u001b[39;49m\u001b[43mget_loc\u001b[49m\u001b[43m(\u001b[49m\u001b[43mcasted_key\u001b[49m\u001b[43m)\u001b[49m\n\u001b[1;32m   3081\u001b[0m \u001b[38;5;28;01mexcept\u001b[39;00m \u001b[38;5;167;01mKeyError\u001b[39;00m \u001b[38;5;28;01mas\u001b[39;00m err:\n",
      "File \u001b[0;32mpandas/_libs/index.pyx:70\u001b[0m, in \u001b[0;36mpandas._libs.index.IndexEngine.get_loc\u001b[0;34m()\u001b[0m\n",
      "File \u001b[0;32mpandas/_libs/index.pyx:101\u001b[0m, in \u001b[0;36mpandas._libs.index.IndexEngine.get_loc\u001b[0;34m()\u001b[0m\n",
      "File \u001b[0;32mpandas/_libs/hashtable_class_helper.pxi:4554\u001b[0m, in \u001b[0;36mpandas._libs.hashtable.PyObjectHashTable.get_item\u001b[0;34m()\u001b[0m\n",
      "File \u001b[0;32mpandas/_libs/hashtable_class_helper.pxi:4562\u001b[0m, in \u001b[0;36mpandas._libs.hashtable.PyObjectHashTable.get_item\u001b[0;34m()\u001b[0m\n",
      "\u001b[0;31mKeyError\u001b[0m: 'labels'",
      "\nThe above exception was the direct cause of the following exception:\n",
      "\u001b[0;31mKeyError\u001b[0m                                  Traceback (most recent call last)",
      "Input \u001b[0;32mIn [17]\u001b[0m, in \u001b[0;36m<module>\u001b[0;34m\u001b[0m\n\u001b[0;32m----> 1\u001b[0m df[\u001b[38;5;124m\"\u001b[39m\u001b[38;5;124mtarget\u001b[39m\u001b[38;5;124m\"\u001b[39m] \u001b[38;5;241m=\u001b[39m \u001b[43mdf\u001b[49m\u001b[43m[\u001b[49m\u001b[43mtarget\u001b[49m\u001b[43m]\u001b[49m\u001b[38;5;66;03m# df.income\u001b[39;00m\n\u001b[1;32m      2\u001b[0m df \u001b[38;5;241m=\u001b[39m df\u001b[38;5;241m.\u001b[39mdrop(target, axis\u001b[38;5;241m=\u001b[39m\u001b[38;5;241m1\u001b[39m)\n",
      "File \u001b[0;32m~/opt/miniconda3/envs/rtdl/lib/python3.8/site-packages/pandas/core/frame.py:3024\u001b[0m, in \u001b[0;36mDataFrame.__getitem__\u001b[0;34m(self, key)\u001b[0m\n\u001b[1;32m   3022\u001b[0m \u001b[38;5;28;01mif\u001b[39;00m \u001b[38;5;28mself\u001b[39m\u001b[38;5;241m.\u001b[39mcolumns\u001b[38;5;241m.\u001b[39mnlevels \u001b[38;5;241m>\u001b[39m \u001b[38;5;241m1\u001b[39m:\n\u001b[1;32m   3023\u001b[0m     \u001b[38;5;28;01mreturn\u001b[39;00m \u001b[38;5;28mself\u001b[39m\u001b[38;5;241m.\u001b[39m_getitem_multilevel(key)\n\u001b[0;32m-> 3024\u001b[0m indexer \u001b[38;5;241m=\u001b[39m \u001b[38;5;28;43mself\u001b[39;49m\u001b[38;5;241;43m.\u001b[39;49m\u001b[43mcolumns\u001b[49m\u001b[38;5;241;43m.\u001b[39;49m\u001b[43mget_loc\u001b[49m\u001b[43m(\u001b[49m\u001b[43mkey\u001b[49m\u001b[43m)\u001b[49m\n\u001b[1;32m   3025\u001b[0m \u001b[38;5;28;01mif\u001b[39;00m is_integer(indexer):\n\u001b[1;32m   3026\u001b[0m     indexer \u001b[38;5;241m=\u001b[39m [indexer]\n",
      "File \u001b[0;32m~/opt/miniconda3/envs/rtdl/lib/python3.8/site-packages/pandas/core/indexes/base.py:3082\u001b[0m, in \u001b[0;36mIndex.get_loc\u001b[0;34m(self, key, method, tolerance)\u001b[0m\n\u001b[1;32m   3080\u001b[0m         \u001b[38;5;28;01mreturn\u001b[39;00m \u001b[38;5;28mself\u001b[39m\u001b[38;5;241m.\u001b[39m_engine\u001b[38;5;241m.\u001b[39mget_loc(casted_key)\n\u001b[1;32m   3081\u001b[0m     \u001b[38;5;28;01mexcept\u001b[39;00m \u001b[38;5;167;01mKeyError\u001b[39;00m \u001b[38;5;28;01mas\u001b[39;00m err:\n\u001b[0;32m-> 3082\u001b[0m         \u001b[38;5;28;01mraise\u001b[39;00m \u001b[38;5;167;01mKeyError\u001b[39;00m(key) \u001b[38;5;28;01mfrom\u001b[39;00m \u001b[38;5;21;01merr\u001b[39;00m\n\u001b[1;32m   3084\u001b[0m \u001b[38;5;28;01mif\u001b[39;00m tolerance \u001b[38;5;129;01mis\u001b[39;00m \u001b[38;5;129;01mnot\u001b[39;00m \u001b[38;5;28;01mNone\u001b[39;00m:\n\u001b[1;32m   3085\u001b[0m     tolerance \u001b[38;5;241m=\u001b[39m \u001b[38;5;28mself\u001b[39m\u001b[38;5;241m.\u001b[39m_convert_tolerance(tolerance, np\u001b[38;5;241m.\u001b[39masarray(key))\n",
      "\u001b[0;31mKeyError\u001b[0m: 'labels'"
     ]
    }
   ],
   "source": [
    "df[\"target\"] = df[target]# df.income\n",
    "df = df.drop(target, axis=1)"
   ]
  },
  {
   "cell_type": "code",
   "execution_count": 41,
   "id": "warming-phrase",
   "metadata": {},
   "outputs": [
    {
     "name": "stdout",
     "output_type": "stream",
     "text": [
      "duration\n",
      "protocol_type\n",
      "service\n",
      "flag\n",
      "src_bytes\n",
      "dst_bytes\n",
      "land\n",
      "wrong_fragment\n",
      "urgent\n",
      "hot\n",
      "num_failed_logins\n",
      "logged_in\n",
      "num_compromised\n",
      "root_shell\n",
      "su_attempted\n",
      "num_root\n",
      "num_file_creations\n",
      "num_shells\n",
      "num_access_files\n",
      "num_outbound_cmds\n",
      "is_host_login\n",
      "is_guest_login\n",
      "count\n",
      "srv_count\n",
      "serror_rate\n",
      "srv_serror_rate\n",
      "rerror_rate\n",
      "srv_rerror_rate\n",
      "same_srv_rate\n",
      "diff_srv_rate\n",
      "srv_diff_host_rate\n",
      "dst_host_count\n",
      "dst_host_srv_count\n",
      "dst_host_same_srv_rate\n",
      "dst_host_diff_srv_rate\n",
      "dst_host_same_src_port_rate\n",
      "dst_host_srv_diff_host_rate\n",
      "dst_host_serror_rate\n",
      "dst_host_srv_serror_rate\n",
      "dst_host_rerror_rate\n",
      "dst_host_srv_rerror_rate\n",
      "target\n"
     ]
    }
   ],
   "source": [
    "strCol = []\n",
    "for column in df.columns:\n",
    "    print(column)\n",
    "    if type(df[column][0]) is str:\n",
    "        strCol.append(column)\n"
   ]
  },
  {
   "cell_type": "code",
   "execution_count": 42,
   "id": "egyptian-michael",
   "metadata": {},
   "outputs": [],
   "source": [
    "strCol = [\"Soil_Type\", \"Wilderness_Area\"]\n",
    "\n",
    "strCol = [\"protocol_type\", \"service\", \"flag\", \"land\"]\n",
    "\n"
   ]
  },
  {
   "cell_type": "code",
   "execution_count": 43,
   "id": "mineral-burden",
   "metadata": {},
   "outputs": [],
   "source": [
    "# df = pd.DataFrame(data.data.tolist(), columns=data.feature_names)\n",
    "oldNames = df.columns# data.feature_names"
   ]
  },
  {
   "cell_type": "code",
   "execution_count": 44,
   "id": "mighty-indiana",
   "metadata": {},
   "outputs": [],
   "source": [
    "# df[\"target\"] = data.target\n",
    "# df[\"target\"] = df.income"
   ]
  },
  {
   "cell_type": "code",
   "execution_count": 45,
   "id": "european-remainder",
   "metadata": {},
   "outputs": [
    {
     "name": "stdout",
     "output_type": "stream",
     "text": [
      "The different type of output labels are: {b'multihop.', b'buffer_overflow.', b'teardrop.', b'ipsweep.', b'satan.', b'pod.', b'portsweep.', b'loadmodule.', b'nmap.', b'back.', b'imap.', b'perl.', b'normal.', b'neptune.', b'guess_passwd.', b'warezmaster.', b'smurf.', b'rootkit.', b'land.', b'phf.', b'warezclient.', b'ftp_write.', b'spy.'}\n",
      "=============================================================================================================================\n",
      "No. of different output labels are: 23\n"
     ]
    }
   ],
   "source": [
    "output = df.target.values\n",
    "labels = set(output)\n",
    "print('The different type of output labels are:',labels)\n",
    "print('='*125)\n",
    "print('No. of different output labels are:', len(labels))"
   ]
  },
  {
   "cell_type": "code",
   "execution_count": 46,
   "id": "toxic-municipality",
   "metadata": {},
   "outputs": [],
   "source": [
    "def onhotencode(_df, _col):\n",
    "    _values = set(_df[_col].values)\n",
    "    for v in _values:\n",
    "        _df[v] = _df[_col].apply(lambda x : float(x == v) )\n",
    "    return _df"
   ]
  },
  {
   "cell_type": "code",
   "execution_count": 47,
   "id": "offensive-comedy",
   "metadata": {},
   "outputs": [],
   "source": [
    "for c in df.columns:\n",
    "    if (not c in strCol) and (c != \"target\"):\n",
    "        df = df.drop(c, axis=1)"
   ]
  },
  {
   "cell_type": "code",
   "execution_count": 48,
   "id": "numeric-screen",
   "metadata": {},
   "outputs": [],
   "source": [
    "for col in df.columns:\n",
    "    if col != \"target\":\n",
    "        df = onhotencode(df, col)\n",
    "        df = df.drop(col, axis=1)"
   ]
  },
  {
   "cell_type": "code",
   "execution_count": 49,
   "id": "later-minute",
   "metadata": {},
   "outputs": [],
   "source": [
    "df[\"target\"] = df[\"target\"].apply(lambda x: str(x))"
   ]
  },
  {
   "cell_type": "code",
   "execution_count": 52,
   "id": "93f86e6b",
   "metadata": {},
   "outputs": [],
   "source": [
    "df.to_csv(\"data/KDD99/training_processed.csv\", index=False)"
   ]
  },
  {
   "cell_type": "code",
   "execution_count": 30,
   "id": "urban-replica",
   "metadata": {},
   "outputs": [],
   "source": [
    "# df.to_csv(\"data/Forest_Cover/training_processed.csv\")"
   ]
  },
  {
   "cell_type": "code",
   "execution_count": 56,
   "id": "incomplete-credits",
   "metadata": {},
   "outputs": [
    {
     "data": {
      "text/plain": [
       "{\"b'back.'\",\n",
       " \"b'buffer_overflow.'\",\n",
       " \"b'ftp_write.'\",\n",
       " \"b'guess_passwd.'\",\n",
       " \"b'imap.'\",\n",
       " \"b'ipsweep.'\",\n",
       " \"b'land.'\",\n",
       " \"b'loadmodule.'\",\n",
       " \"b'multihop.'\",\n",
       " \"b'neptune.'\",\n",
       " \"b'nmap.'\",\n",
       " \"b'normal.'\",\n",
       " \"b'perl.'\",\n",
       " \"b'phf.'\",\n",
       " \"b'pod.'\",\n",
       " \"b'portsweep.'\",\n",
       " \"b'rootkit.'\",\n",
       " \"b'satan.'\",\n",
       " \"b'smurf.'\",\n",
       " \"b'spy.'\",\n",
       " \"b'teardrop.'\",\n",
       " \"b'warezclient.'\",\n",
       " \"b'warezmaster.'\"}"
      ]
     },
     "execution_count": 56,
     "metadata": {},
     "output_type": "execute_result"
    }
   ],
   "source": [
    "set(list(df.target))"
   ]
  },
  {
   "cell_type": "code",
   "execution_count": null,
   "id": "occupational-feeling",
   "metadata": {},
   "outputs": [],
   "source": []
  }
 ],
 "metadata": {
  "kernelspec": {
   "display_name": "Python 3 (ipykernel)",
   "language": "python",
   "name": "python3"
  },
  "language_info": {
   "codemirror_mode": {
    "name": "ipython",
    "version": 3
   },
   "file_extension": ".py",
   "mimetype": "text/x-python",
   "name": "python",
   "nbconvert_exporter": "python",
   "pygments_lexer": "ipython3",
   "version": "3.8.8"
  }
 },
 "nbformat": 4,
 "nbformat_minor": 5
}

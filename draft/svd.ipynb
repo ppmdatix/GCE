{
 "cells": [
  {
   "cell_type": "code",
   "execution_count": 82,
   "id": "7c5088c0",
   "metadata": {},
   "outputs": [
    {
     "name": "stdout",
     "output_type": "stream",
     "text": [
      "d:\n",
      "[17.50141313  5.57467581  3.25937543]\n",
      "\n",
      "U:\n",
      "[[-0.61697692 -0.71984297 -0.31806537]\n",
      " [ 0.37159783  0.08979484 -0.92404109]\n",
      " [ 0.69372511 -0.68830443  0.21209075]]\n",
      "\n",
      "V:\n",
      "[[-0.6463213  -0.48932452 -0.58551711]\n",
      " [ 0.72878483 -0.1684351  -0.66370346]\n",
      " [ 0.22614475 -0.85568167  0.46547548]]\n",
      "error svd    : 0.000000\n",
      "approximation 0 error    : 41.700539\n",
      "approximation 1 error    : 316.922990\n",
      "approximation 2 error    : 337.376472\n"
     ]
    }
   ],
   "source": [
    "import numpy as np\n",
    "from matplotlib import pyplot as plt\n",
    "n = 3\n",
    "\n",
    "def error(M, A):\n",
    "    return np.sum(np.square(M-A))\n",
    "\n",
    "A = np.array([ [9., 3., 6.],\n",
    "               [8., 8., 6.],\n",
    "               [0., 3., 7.]])\n",
    "U, d, V = np.linalg.svd(A, full_matrices=True)\n",
    "U = np.transpose(U)\n",
    "\n",
    "print(\"d:\")\n",
    "print(d)\n",
    "print(\"\\nU:\")\n",
    "print(U)\n",
    "print(\"\\nV:\")\n",
    "print(V)\n",
    "\n",
    "fullDecomposition = d[0] * np.outer(U[0] , V[0]) + \\\n",
    "                    d[1] * np.outer(U[1] , V[1]) + \\\n",
    "                    d[2] * np.outer(U[2] , V[2])\n",
    "approxs = [d[i] * np.outer(U[i] , V[i]) for i in range(n)]\n",
    "\n",
    "errorSvd = error(fullDecomposition, A)\n",
    "print(\"error svd    : %f\"  % errorSvd)\n",
    "for i in range(n):\n",
    "    errorApprox = error(approxs[i], A)\n",
    "    print(\"approximation %i error    : %f\"  % (i, errorApprox))"
   ]
  },
  {
   "cell_type": "code",
   "execution_count": 83,
   "id": "59912717",
   "metadata": {},
   "outputs": [],
   "source": [
    "import pandas as pd"
   ]
  },
  {
   "cell_type": "code",
   "execution_count": 84,
   "id": "909d68ee",
   "metadata": {},
   "outputs": [],
   "source": [
    "items = pd.read_csv(\"Tables/18072022ItemsFAKE.csv\")\n",
    "sales = pd.read_csv(\"Tables/18072022SalesFAKE.csv\")"
   ]
  },
  {
   "cell_type": "code",
   "execution_count": 85,
   "id": "44af54ed",
   "metadata": {},
   "outputs": [],
   "source": [
    "mergedSales = sales.merge(items, on='Id', how='right')"
   ]
  },
  {
   "cell_type": "code",
   "execution_count": 86,
   "id": "9aecaffa",
   "metadata": {},
   "outputs": [],
   "source": [
    "table = pd.pivot_table(mergedSales, index='feature-G', columns='feature-C', values='Quantity')\n",
    "table.fillna(0,inplace=True)"
   ]
  },
  {
   "cell_type": "code",
   "execution_count": 87,
   "id": "ad82c469",
   "metadata": {},
   "outputs": [],
   "source": [
    "A = table.values"
   ]
  },
  {
   "cell_type": "code",
   "execution_count": 88,
   "id": "f19d1dcb",
   "metadata": {},
   "outputs": [
    {
     "name": "stdout",
     "output_type": "stream",
     "text": [
      "d:\n",
      "[57.81129261 57.52510984 57.31691923 56.82024278 53.53694355 27.32413764\n",
      " 26.76402204 26.73093355 26.50512882 26.49638291 25.12255741 24.93360745\n",
      " 23.37457347 17.88579129 14.35728084 13.33388988 13.11548911  9.85610211\n",
      "  8.96298329  8.77717673  8.31011186  7.84076258  7.80226143  7.68114575\n",
      "  6.55743852  6.27547355  5.99045601  5.74624145  5.69295734  5.52712829\n",
      "  5.46932753  4.58257569  4.          2.02311028  1.76666558  1.73205081\n",
      "  1.73205081  1.73205081  1.41421356]\n",
      "\n",
      "U:\n",
      "[[0. 0. 0. ... 0. 0. 0.]\n",
      " [0. 0. 0. ... 0. 0. 0.]\n",
      " [0. 0. 0. ... 0. 0. 0.]\n",
      " ...\n",
      " [0. 0. 0. ... 0. 0. 0.]\n",
      " [0. 1. 0. ... 0. 0. 0.]\n",
      " [0. 0. 0. ... 0. 0. 0.]]\n",
      "\n",
      "V:\n",
      "[[ 0.00000000e+00  0.00000000e+00  1.72976586e-02 ...  6.91906342e-02\n",
      "   1.00698945e-17  1.72976586e-02]\n",
      " [ 0.00000000e+00  4.63402255e-20 -1.74976329e-17 ... -7.81033740e-17\n",
      "   3.66920096e-20 -1.95258435e-17]\n",
      " [ 0.00000000e+00  0.00000000e+00  0.00000000e+00 ...  0.00000000e+00\n",
      "   0.00000000e+00  0.00000000e+00]\n",
      " ...\n",
      " [ 0.00000000e+00  1.06160348e-22 -1.21799786e-03 ...  9.95212681e-01\n",
      "  -3.72547271e-07 -1.19682963e-03]\n",
      " [ 0.00000000e+00 -1.03611025e-25 -1.75940026e-02 ...  2.10634375e-05\n",
      "   9.99690264e-01  5.26585937e-06]\n",
      " [ 0.00000000e+00  2.65400870e-23 -3.04499464e-04 ... -1.19682963e-03\n",
      "  -9.31368177e-08  9.99700793e-01]]\n",
      "error svd    : 13156.129139\n",
      "approximation 0 error    : 19750.496631\n",
      "approximation 1 error    : 19783.503922\n",
      "approximation 2 error    : 19807.412955\n",
      "approximation 3 error    : 19864.102195\n",
      "approximation 4 error    : 20226.437860\n",
      "approximation 5 error    : 22346.033687\n",
      "approximation 6 error    : 22376.329309\n",
      "approximation 7 error    : 22378.099376\n",
      "approximation 8 error    : 22390.120330\n",
      "approximation 9 error    : 22390.583877\n",
      "approximation 10 error    : 22461.499293\n",
      "approximation 11 error    : 22470.957404\n",
      "approximation 12 error    : 22546.271500\n",
      "approximation 13 error    : 22772.740654\n",
      "approximation 14 error    : 22886.510671\n",
      "approximation 15 error    : 22914.849565\n",
      "approximation 16 error    : 22920.626130\n",
      "approximation 17 error    : 22995.499436\n",
      "approximation 18 error    : 23012.307115\n",
      "approximation 19 error    : 23015.603353\n",
      "approximation 20 error    : 23023.584225\n",
      "approximation 21 error    : 23031.164626\n",
      "approximation 22 error    : 23031.766901\n",
      "approximation 23 error    : 23033.642184\n",
      "approximation 24 error    : 23049.642184\n",
      "approximation 25 error    : 23053.260616\n",
      "approximation 26 error    : 23056.756621\n",
      "approximation 27 error    : 23059.622893\n",
      "approximation 28 error    : 23060.232421\n",
      "approximation 29 error    : 23062.093037\n",
      "approximation 30 error    : 23062.728641\n",
      "approximation 31 error    : 23071.642184\n",
      "approximation 32 error    : 23076.642184\n",
      "approximation 33 error    : 23088.549209\n",
      "approximation 34 error    : 23089.521077\n",
      "approximation 35 error    : 23089.642184\n",
      "approximation 36 error    : 23089.642184\n",
      "approximation 37 error    : 23089.642184\n",
      "approximation 38 error    : 23090.642184\n"
     ]
    }
   ],
   "source": [
    "import numpy as np\n",
    "\n",
    "def error(M, A):\n",
    "    return np.sum(np.square(M-A))\n",
    "\n",
    "U, d, V = np.linalg.svd(A, full_matrices=True)\n",
    "U = np.transpose(U)\n",
    "\n",
    "print(\"d:\")\n",
    "print(d)\n",
    "print(\"\\nU:\")\n",
    "print(U)\n",
    "print(\"\\nV:\")\n",
    "print(V)\n",
    "\n",
    "n = len(U)\n",
    "m = len(V)\n",
    "\n",
    "fullDecomposition = d[0] * np.outer(U[0] , V[0]) + \\\n",
    "                    d[1] * np.outer(U[1] , V[1]) + \\\n",
    "                    d[2] * np.outer(U[2] , V[2])\n",
    "approxs = [d[i] * np.outer(U[i] , V[i]) for i in range(n)]\n",
    "\n",
    "errorSvd = error(fullDecomposition, A)\n",
    "print(\"error svd    : %f\"  % errorSvd)\n",
    "for i in range(n):\n",
    "    errorApprox = error(approxs[i], A)\n",
    "    print(\"approximation %i error    : %f\"  % (i, errorApprox))"
   ]
  },
  {
   "cell_type": "code",
   "execution_count": 92,
   "id": "60a12db2",
   "metadata": {},
   "outputs": [
    {
     "name": "stdout",
     "output_type": "stream",
     "text": [
      "error svd    : 13156.129139\n",
      "svd approximation 38 error    : 19750.496631\n",
      "smallest error random : 22750.511549\n"
     ]
    }
   ],
   "source": [
    "bestE = np.inf\n",
    "bestU = None\n",
    "bestV = None\n",
    "bestd = None\n",
    "errs = []\n",
    "reproductions = 10\n",
    "\n",
    "for _ in range(reproductions):\n",
    "    UU = np.random.rand(n)\n",
    "    UU = (1.0 / np.sqrt(error(UU, 0))) * UU\n",
    "    VV = np.random.rand(m)\n",
    "    VV = (1.0 / np.sqrt(error(VV, 0))) * VV\n",
    "    for dd in np.linspace(0.1, 10, num=100):\n",
    "        app = dd * np.outer(UU,VV)\n",
    "        err = error(app, A)\n",
    "        errs.append(err)\n",
    "        if err < bestE:\n",
    "            bestE = err\n",
    "            bestU = UU \n",
    "            bestV = VV\n",
    "            bestd = dd\n",
    "print(\"error svd    : %f\"  % errorSvd)\n",
    "print(\"svd approximation %i error    : %f\"  % (i, error(approxs[0], A)))\n",
    "print(\"smallest error random : %f\"  % bestE)"
   ]
  },
  {
   "cell_type": "code",
   "execution_count": 94,
   "id": "3b1211d5",
   "metadata": {},
   "outputs": [
    {
     "data": {
      "text/plain": [
       "23092.642184285192"
      ]
     },
     "execution_count": 94,
     "metadata": {},
     "output_type": "execute_result"
    }
   ],
   "source": [
    "error(np.zeros_like(A), A)"
   ]
  },
  {
   "cell_type": "code",
   "execution_count": null,
   "id": "8bd6eae4",
   "metadata": {},
   "outputs": [],
   "source": []
  },
  {
   "cell_type": "code",
   "execution_count": null,
   "id": "696d2efe",
   "metadata": {},
   "outputs": [],
   "source": [
    "bestd * np.outer(bestU , bestV)"
   ]
  },
  {
   "cell_type": "code",
   "execution_count": null,
   "id": "e4d8ae34",
   "metadata": {},
   "outputs": [],
   "source": [
    "approx"
   ]
  },
  {
   "cell_type": "code",
   "execution_count": null,
   "id": "4e28f137",
   "metadata": {},
   "outputs": [],
   "source": [
    "error(bestU, 0)"
   ]
  },
  {
   "cell_type": "code",
   "execution_count": 129,
   "id": "be824bca",
   "metadata": {},
   "outputs": [],
   "source": [
    "params = {\n",
    "  'axes.labelsize': 20,\n",
    "  'font.size': 18,\n",
    "  'legend.fontsize': 12,\n",
    "  'xtick.labelsize': 20,\n",
    "  'ytick.labelsize': 20,\n",
    "  'text.usetex': True,\n",
    "  'figure.figsize': [8, 6],\n",
    "  'text.latex.preamble': r'\\usepackage{amsmath} \\usepackage{amssymb}',\n",
    "   }\n",
    "plt.rcParams.update(params)"
   ]
  },
  {
   "cell_type": "code",
   "execution_count": 133,
   "id": "bc3e3cdb",
   "metadata": {},
   "outputs": [
    {
     "data": {
      "image/png": "[encoded data removed]",
      "text/plain": [
       "<Figure size 800x600 with 1 Axes>"
      ]
     },
     "metadata": {},
     "output_type": "display_data"
    }
   ],
   "source": [
    "plt.hist(errs, label=\"random\")\n",
    "plt.vlines(error(approxs[0], A), ymin=0, ymax=150, color=\"orange\", label=\"1st term of SVD\", linestyle=\"dashed\")\n",
    "plt.xlabel(\"Error\")\n",
    "plt.ylabel(\"Frequency\")\n",
    "plt.title(\"Comparison of SVD and random initialisation.\")\n",
    "plt.legend(loc=\"upper center\")\n",
    "plt.savefig(\"svd-results.pdf\")\n",
    "plt.show()\n",
    "plt.close()"
   ]
  },
  {
   "cell_type": "code",
   "execution_count": null,
   "id": "38d4a3cb",
   "metadata": {},
   "outputs": [],
   "source": []
  }
 ],
 "metadata": {
  "kernelspec": {
   "display_name": "Python 3 (ipykernel)",
   "language": "python",
   "name": "python3"
  },
  "language_info": {
   "codemirror_mode": {
    "name": "ipython",
    "version": 3
   },
   "file_extension": ".py",
   "mimetype": "text/x-python",
   "name": "python",
   "nbconvert_exporter": "python",
   "pygments_lexer": "ipython3",
   "version": "3.9.12"
  }
 },
 "nbformat": 4,
 "nbformat_minor": 5
}

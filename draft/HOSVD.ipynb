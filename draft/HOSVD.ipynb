{
 "cells": [
  {
   "cell_type": "code",
   "execution_count": 154,
   "id": "fb0fd559",
   "metadata": {},
   "outputs": [],
   "source": [
    "import torch"
   ]
  },
  {
   "cell_type": "code",
   "execution_count": 155,
   "id": "f40c52fe",
   "metadata": {},
   "outputs": [],
   "source": [
    "def error(M, A):\n",
    "    return torch.sum(torch.square(M-A))"
   ]
  },
  {
   "cell_type": "code",
   "execution_count": 156,
   "id": "496b66c7",
   "metadata": {},
   "outputs": [],
   "source": [
    "taille = 30"
   ]
  },
  {
   "cell_type": "code",
   "execution_count": 157,
   "id": "9433f0e1",
   "metadata": {},
   "outputs": [],
   "source": [
    "tensor = torch.rand(taille,taille,taille)"
   ]
  },
  {
   "cell_type": "code",
   "execution_count": 158,
   "id": "36a36eae",
   "metadata": {},
   "outputs": [],
   "source": [
    "U, d, V = torch.linalg.svd(tensor.reshape(taille,taille*taille))\n",
    "bestU = torch.transpose(U, 0, 1)[0]"
   ]
  },
  {
   "cell_type": "code",
   "execution_count": 160,
   "id": "d56a1831",
   "metadata": {},
   "outputs": [],
   "source": [
    "vU, vD, vV = torch.linalg.svd(V[0].reshape(taille,taille))\n",
    "bestV = torch.transpose(vU, 0, 1)[0]\n",
    "bestW = vV[0]"
   ]
  },
  {
   "cell_type": "code",
   "execution_count": 161,
   "id": "e2a02acd",
   "metadata": {},
   "outputs": [
    {
     "data": {
      "text/plain": [
       "tensor(82.2139)"
      ]
     },
     "execution_count": 161,
     "metadata": {},
     "output_type": "execute_result"
    }
   ],
   "source": [
    "d[0] * vD[0]"
   ]
  },
  {
   "cell_type": "code",
   "execution_count": 162,
   "id": "e91c26df",
   "metadata": {},
   "outputs": [],
   "source": [
    "UV = torch.outer(bestU, bestV).reshape(taille*taille)"
   ]
  },
  {
   "cell_type": "code",
   "execution_count": 163,
   "id": "11f47bbd",
   "metadata": {},
   "outputs": [],
   "source": [
    "UVW =d[0] * vD[0] *  torch.outer(UV, bestW).reshape(taille,taille,taille)"
   ]
  },
  {
   "cell_type": "code",
   "execution_count": 164,
   "id": "aef88ae6",
   "metadata": {},
   "outputs": [
    {
     "data": {
      "text/plain": [
       "torch.Size([30, 30, 30])"
      ]
     },
     "execution_count": 164,
     "metadata": {},
     "output_type": "execute_result"
    }
   ],
   "source": [
    "tensor.size()"
   ]
  },
  {
   "cell_type": "code",
   "execution_count": 165,
   "id": "b593afed",
   "metadata": {},
   "outputs": [
    {
     "data": {
      "text/plain": [
       "tensor(2245.3552)"
      ]
     },
     "execution_count": 165,
     "metadata": {},
     "output_type": "execute_result"
    }
   ],
   "source": [
    "error(UVW, tensor)"
   ]
  },
  {
   "cell_type": "code",
   "execution_count": null,
   "id": "bd1b1ced",
   "metadata": {},
   "outputs": [],
   "source": [
    "bestE = np.inf\n",
    "bestU = None\n",
    "bestV = None\n",
    "bestW = None\n",
    "bestd = None\n",
    "errs = []\n",
    "for _ in range(int(10e2)):\n",
    "    UU = torch.rand(taille)\n",
    "    UU = (1.0 / torch.sqrt(error(UU, 0))) * UU\n",
    "    VV = torch.rand(taille)\n",
    "    VV = (1.0 / torch.sqrt(error(VV, 0))) * VV\n",
    "    WW = torch.rand(taille)\n",
    "    WW = (1.0 / torch.sqrt(error(WW, 0))) * WW\n",
    "    \n",
    "    for dd in np.linspace(0.1, 10, num=100):\n",
    "        app = dd * np.outer(UU,VV)\n",
    "        err = error(app, A)\n",
    "        errs.append(err)\n",
    "        if err < bestE:\n",
    "            bestE = err\n",
    "            bestU = UU \n",
    "            bestV = VV\n",
    "            bestd = dd\n",
    "print(\"smallest error svd    : %f\"  % errorSvd)\n",
    "print(\"smallest error random : %f\"  % bestE)"
   ]
  },
  {
   "cell_type": "code",
   "execution_count": 153,
   "id": "658276ca",
   "metadata": {},
   "outputs": [
    {
     "ename": "AttributeError",
     "evalue": "'Tensor' object has no attribute 'si'",
     "output_type": "error",
     "traceback": [
      "\u001b[1;31m---------------------------------------------------------------------------\u001b[0m",
      "\u001b[1;31mAttributeError\u001b[0m                            Traceback (most recent call last)",
      "Input \u001b[1;32mIn [153]\u001b[0m, in \u001b[0;36m<cell line: 1>\u001b[1;34m()\u001b[0m\n\u001b[1;32m----> 1\u001b[0m \u001b[43mS\u001b[49m\u001b[38;5;241;43m.\u001b[39;49m\u001b[43msi\u001b[49m\n",
      "\u001b[1;31mAttributeError\u001b[0m: 'Tensor' object has no attribute 'si'"
     ]
    }
   ],
   "source": [
    "S.si"
   ]
  },
  {
   "cell_type": "code",
   "execution_count": 56,
   "id": "fe4bdc7e",
   "metadata": {},
   "outputs": [
    {
     "data": {
      "text/plain": [
       "torch.Size([10, 10, 10])"
      ]
     },
     "execution_count": 56,
     "metadata": {},
     "output_type": "execute_result"
    }
   ],
   "source": [
    "U.size()"
   ]
  },
  {
   "cell_type": "code",
   "execution_count": 61,
   "id": "1f726666",
   "metadata": {},
   "outputs": [
    {
     "data": {
      "text/plain": [
       "True"
      ]
     },
     "execution_count": 61,
     "metadata": {},
     "output_type": "execute_result"
    }
   ],
   "source": [
    "\n",
    "torch.allclose(U, U.reshape(1000).reshape([10, 10, 10]))"
   ]
  },
  {
   "cell_type": "code",
   "execution_count": null,
   "id": "7e0ef42a",
   "metadata": {},
   "outputs": [],
   "source": []
  }
 ],
 "metadata": {
  "kernelspec": {
   "display_name": "Python 3 (ipykernel)",
   "language": "python",
   "name": "python3"
  },
  "language_info": {
   "codemirror_mode": {
    "name": "ipython",
    "version": 3
   },
   "file_extension": ".py",
   "mimetype": "text/x-python",
   "name": "python",
   "nbconvert_exporter": "python",
   "pygments_lexer": "ipython3",
   "version": "3.9.12"
  }
 },
 "nbformat": 4,
 "nbformat_minor": 5
}

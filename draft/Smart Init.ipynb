{
 "cells": [
  {
   "cell_type": "code",
   "execution_count": 210,
   "id": "3e9b1b26",
   "metadata": {},
   "outputs": [],
   "source": [
    "import random\n",
    "import numpy as np\n",
    "from matplotlib import pyplot as plt"
   ]
  },
  {
   "cell_type": "code",
   "execution_count": 211,
   "id": "d482a33a",
   "metadata": {},
   "outputs": [],
   "source": [
    "A = [[ random.random() for j in range(2)] for i in range(2) ]"
   ]
  },
  {
   "cell_type": "code",
   "execution_count": 212,
   "id": "2d0d132a",
   "metadata": {},
   "outputs": [
    {
     "data": {
      "text/plain": [
       "[[0.19686428374757547, 0.34485821967452945],\n",
       " [0.1897344876175956, 0.0340630132546027]]"
      ]
     },
     "execution_count": 212,
     "metadata": {},
     "output_type": "execute_result"
    }
   ],
   "source": [
    "A"
   ]
  },
  {
   "cell_type": "code",
   "execution_count": 213,
   "id": "f2dfae6a",
   "metadata": {},
   "outputs": [],
   "source": [
    "def solve(v1):\n",
    "    v = [v1, np.sqrt(1 - v1*v1)]\n",
    "    u = [ A[0][0] * v1 + A[0][1] * v[1], A[1][0] * v1 + A[1][1] * v[1]]\n",
    "    \n",
    "    return u, v"
   ]
  },
  {
   "cell_type": "code",
   "execution_count": 214,
   "id": "210dd9c2",
   "metadata": {},
   "outputs": [],
   "source": [
    "def dA(_A,_u,_v):\n",
    "    d = [[ (A[i][j] - _u[i]*_v[j])**2 for j in range(2)] for i in range(2) ]\n",
    "    \n",
    "    return sum(d[0]) + sum(d[1])\n"
   ]
  },
  {
   "cell_type": "code",
   "execution_count": 215,
   "id": "2a11d769",
   "metadata": {},
   "outputs": [],
   "source": [
    "def explore(N=10):\n",
    "    vs = np.linspace(0, 1, N, endpoint=True)\n",
    "    ys = []\n",
    "    for v1 in vs:\n",
    "        u, v = solve(v1)\n",
    "        ys.append(dA(A,u,v))\n",
    "    return ys"
   ]
  },
  {
   "cell_type": "code",
   "execution_count": 216,
   "id": "d87bbf39",
   "metadata": {},
   "outputs": [],
   "source": [
    "explored = explore(100)"
   ]
  },
  {
   "cell_type": "code",
   "execution_count": 217,
   "id": "1e22d388",
   "metadata": {},
   "outputs": [
    {
     "data": {
      "image/png": "[encoded data removed]",
      "text/plain": [
       "<Figure size 432x288 with 1 Axes>"
      ]
     },
     "metadata": {
      "needs_background": "light"
     },
     "output_type": "display_data"
    }
   ],
   "source": [
    "plt.plot(explored)\n",
    "plt.show()\n",
    "plt.close()"
   ]
  },
  {
   "cell_type": "code",
   "execution_count": 218,
   "id": "e3912c5a",
   "metadata": {},
   "outputs": [],
   "source": [
    "def gen(normed=False):\n",
    "    u1 = random.random()\n",
    "    u2 = np.sqrt(1-u1*u1)\n",
    "    if not normed:\n",
    "        u2 = random.random()\n",
    "    return [ u1 , u2 ]"
   ]
  },
  {
   "cell_type": "code",
   "execution_count": 219,
   "id": "88d3a328",
   "metadata": {},
   "outputs": [],
   "source": [
    "randomTest = [dA(A, gen(), gen(False)) for _ in range(100000)]\n"
   ]
  },
  {
   "cell_type": "code",
   "execution_count": 220,
   "id": "94391c93",
   "metadata": {},
   "outputs": [
    {
     "data": {
      "image/png": "[encoded data removed]",
      "text/plain": [
       "<Figure size 432x288 with 1 Axes>"
      ]
     },
     "metadata": {
      "needs_background": "light"
     },
     "output_type": "display_data"
    }
   ],
   "source": [
    "plt.hist(explored)\n",
    "plt.show()\n",
    "plt.close()"
   ]
  },
  {
   "cell_type": "code",
   "execution_count": 221,
   "id": "2619f3d4",
   "metadata": {},
   "outputs": [
    {
     "data": {
      "image/png": "[encoded data removed]",
      "text/plain": [
       "<Figure size 432x288 with 1 Axes>"
      ]
     },
     "metadata": {
      "needs_background": "light"
     },
     "output_type": "display_data"
    }
   ],
   "source": [
    "plt.hist(randomTest)\n",
    "plt.show()\n",
    "plt.close()"
   ]
  },
  {
   "cell_type": "code",
   "execution_count": 222,
   "id": "32d880da",
   "metadata": {},
   "outputs": [
    {
     "data": {
      "text/plain": [
       "0.019689913059462067"
      ]
     },
     "execution_count": 222,
     "metadata": {},
     "output_type": "execute_result"
    }
   ],
   "source": [
    "min(explored)"
   ]
  },
  {
   "cell_type": "code",
   "execution_count": 223,
   "id": "111062de",
   "metadata": {},
   "outputs": [
    {
     "data": {
      "text/plain": [
       "0.019808382202475716"
      ]
     },
     "execution_count": 223,
     "metadata": {},
     "output_type": "execute_result"
    }
   ],
   "source": [
    "min(randomTest)"
   ]
  },
  {
   "cell_type": "code",
   "execution_count": null,
   "id": "47ab5e8f",
   "metadata": {},
   "outputs": [],
   "source": []
  },
  {
   "cell_type": "code",
   "execution_count": null,
   "id": "f72009e8",
   "metadata": {},
   "outputs": [],
   "source": []
  },
  {
   "cell_type": "code",
   "execution_count": null,
   "id": "21a314b1",
   "metadata": {},
   "outputs": [],
   "source": []
  },
  {
   "cell_type": "code",
   "execution_count": null,
   "id": "53d867ca",
   "metadata": {},
   "outputs": [],
   "source": []
  },
  {
   "cell_type": "code",
   "execution_count": null,
   "id": "772441b8",
   "metadata": {},
   "outputs": [],
   "source": []
  },
  {
   "cell_type": "code",
   "execution_count": null,
   "id": "3e488df8",
   "metadata": {},
   "outputs": [],
   "source": []
  }
 ],
 "metadata": {
  "kernelspec": {
   "display_name": "Python 3 (ipykernel)",
   "language": "python",
   "name": "python3"
  },
  "language_info": {
   "codemirror_mode": {
    "name": "ipython",
    "version": 3
   },
   "file_extension": ".py",
   "mimetype": "text/x-python",
   "name": "python",
   "nbconvert_exporter": "python",
   "pygments_lexer": "ipython3",
   "version": "3.9.12"
  }
 },
 "nbformat": 4,
 "nbformat_minor": 5
}

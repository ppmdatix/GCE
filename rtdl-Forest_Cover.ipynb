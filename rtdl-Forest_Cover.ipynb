{
 "cells": [
  {
   "cell_type": "code",
   "execution_count": 1,
   "id": "underlying-telling",
   "metadata": {},
   "outputs": [],
   "source": [
    "# Requirements:\n",
    "# !pip install rtdl\n",
    "# !pip install libzero==0.0.4"
   ]
  },
  {
   "cell_type": "code",
   "execution_count": 2,
   "id": "scheduled-leone",
   "metadata": {},
   "outputs": [],
   "source": [
    "from typing import Any, Dict\n",
    "\n",
    "import numpy as np\n",
    "import rtdl\n",
    "import scipy.special\n",
    "import sklearn.datasets\n",
    "import sklearn.metrics\n",
    "import sklearn.model_selection\n",
    "import sklearn.preprocessing\n",
    "import torch\n",
    "import torch.nn as nn\n",
    "import torch.nn.functional as F\n",
    "import zero\n",
    "import pandas as pd"
   ]
  },
  {
   "cell_type": "code",
   "execution_count": 11,
   "id": "bigger-frame",
   "metadata": {},
   "outputs": [
    {
     "ename": "AttributeError",
     "evalue": "module 'zero' has no attribute 'improve_reproducibility'",
     "output_type": "error",
     "traceback": [
      "\u001b[0;31m---------------------------------------------------------------------------\u001b[0m",
      "\u001b[0;31mAttributeError\u001b[0m                            Traceback (most recent call last)",
      "\u001b[0;32m/var/folders/q_/0qh2nb8s6hs3n091th2d_jc40000gn/T/ipykernel_4473/1224166277.py\u001b[0m in \u001b[0;36m<module>\u001b[0;34m\u001b[0m\n\u001b[1;32m      1\u001b[0m \u001b[0mdevice\u001b[0m \u001b[0;34m=\u001b[0m \u001b[0mtorch\u001b[0m\u001b[0;34m.\u001b[0m\u001b[0mdevice\u001b[0m\u001b[0;34m(\u001b[0m\u001b[0;34m'cpu'\u001b[0m\u001b[0;34m)\u001b[0m\u001b[0;34m\u001b[0m\u001b[0;34m\u001b[0m\u001b[0m\n\u001b[1;32m      2\u001b[0m \u001b[0;31m# Docs: https://yura52.github.io/zero/0.0.4/reference/api/zero.improve_reproducibility.html\u001b[0m\u001b[0;34m\u001b[0m\u001b[0;34m\u001b[0m\u001b[0;34m\u001b[0m\u001b[0m\n\u001b[0;32m----> 3\u001b[0;31m \u001b[0mzero\u001b[0m\u001b[0;34m.\u001b[0m\u001b[0mimprove_reproducibility\u001b[0m\u001b[0;34m(\u001b[0m\u001b[0mseed\u001b[0m\u001b[0;34m=\u001b[0m\u001b[0;36m123456\u001b[0m\u001b[0;34m)\u001b[0m\u001b[0;34m\u001b[0m\u001b[0;34m\u001b[0m\u001b[0m\n\u001b[0m",
      "\u001b[0;31mAttributeError\u001b[0m: module 'zero' has no attribute 'improve_reproducibility'"
     ]
    }
   ],
   "source": [
    "device = torch.device('cpu')\n",
    "# Docs: https://yura52.github.io/zero/0.0.4/reference/api/zero.improve_reproducibility.html\n",
    "zero.improve_reproducibility(seed=123456)"
   ]
  },
  {
   "cell_type": "markdown",
   "id": "acquired-contractor",
   "metadata": {},
   "source": [
    "### Data"
   ]
  },
  {
   "cell_type": "code",
   "execution_count": 4,
   "id": "addressed-congo",
   "metadata": {},
   "outputs": [],
   "source": [
    "df = pd.read_csv(\"data/Forest_Cover/train_centered.csv\")"
   ]
  },
  {
   "cell_type": "code",
   "execution_count": 6,
   "id": "4edd2029",
   "metadata": {},
   "outputs": [],
   "source": [
    "df[\"target\"] = df.Cover_Type_Type"
   ]
  },
  {
   "cell_type": "code",
   "execution_count": 7,
   "id": "genuine-stomach",
   "metadata": {},
   "outputs": [],
   "source": [
    "# df.values\n",
    "\n",
    "target = df[\"target\"].values\n",
    "targetValues = list(set(target))\n",
    "targetMapping = dict()\n",
    "\n",
    "\n",
    "for i in range(len(targetValues)):\n",
    "    targetMapping[targetValues[i]] = i\n",
    "\n",
    "result = []\n",
    "for t in target:\n",
    "    result.append(targetMapping[t])\n",
    "\n",
    "dfFormat = {\"target\": pd.DataFrame(result).values.reshape(df.shape[0]), \"data\": df.drop(\"target\", axis=1), \"frame\": None, \"DESCR\": \"Todo\", \"feature_names\": []}"
   ]
  },
  {
   "cell_type": "code",
   "execution_count": 8,
   "id": "fabulous-mortality",
   "metadata": {},
   "outputs": [],
   "source": [
    "def toY(_data):\n",
    "    if type(_data) == np.ndarray:\n",
    "        return _data\n",
    "    else:\n",
    "        return _data.values"
   ]
  },
  {
   "cell_type": "code",
   "execution_count": 8,
   "id": "suburban-aspect",
   "metadata": {},
   "outputs": [],
   "source": [
    "task_type = 'regression'"
   ]
  },
  {
   "cell_type": "code",
   "execution_count": 12,
   "id": "streaming-variety",
   "metadata": {},
   "outputs": [],
   "source": [
    "task_type = 'multiclass'\n",
    "\n",
    "assert task_type in ['binclass', 'multiclass', 'regression']\n",
    "\n",
    "X_all = dfFormat['data'].astype('float32')\n",
    "y_all = dfFormat['target'].astype('float32' if task_type == 'regression' else 'int64')\n",
    "if task_type != 'regression':\n",
    "    y_all = sklearn.preprocessing.LabelEncoder().fit_transform(y_all).astype('int64')\n",
    "n_classes = int(max(y_all)) + 1 if task_type == 'multiclass' else None\n",
    "\n",
    "oldX = {}\n",
    "y = {}\n",
    "oldX['train'], oldX['test'], y['train'], y['test'] = sklearn.model_selection.train_test_split(\n",
    "    X_all, y_all, train_size=0.8\n",
    ")\n",
    "oldX['train'], oldX['val'], y['train'], y['val'] = sklearn.model_selection.train_test_split(\n",
    "    oldX['train'], y['train'], train_size=0.8\n",
    ")\n",
    "\n",
    "# not the best way to preprocess features, but enough for the demonstration\n",
    "preprocess = sklearn.preprocessing.StandardScaler().fit(oldX['train'])\n",
    "X = {\n",
    "    # k: torch.tensor(v, device=device)\n",
    "    k: torch.tensor(preprocess.fit_transform(v), device=device)\n",
    "    for k, v in oldX.items()\n",
    "}\n",
    "# y = {k: torch.tensor(np.array(v), device=device) for k, v in y.items()}\n",
    "y = {k: torch.tensor(toY(v), device=device) for k, v in y.items()}\n",
    "\n",
    "# !!! CRUCIAL for neural networks when solving regression problems !!!\n",
    "if task_type == 'regression':\n",
    "    y_mean = y['train'].mean().item()\n",
    "    y_std = y['train'].std().item()\n",
    "    y = {k: (v - y_mean) / y_std for k, v in y.items()}\n",
    "else:\n",
    "    y_std = y_mean = None\n",
    "\n",
    "if task_type != 'multiclass':\n",
    "    y = {k: v.float() for k, v in y.items()}"
   ]
  },
  {
   "cell_type": "markdown",
   "id": "decent-idaho",
   "metadata": {},
   "source": [
    "### Model\n",
    "Carefully read the comments and uncomment the code for the model you want to test."
   ]
  },
  {
   "cell_type": "code",
   "execution_count": 13,
   "id": "greatest-impact",
   "metadata": {},
   "outputs": [],
   "source": [
    "def createModel():\n",
    "    d_out = n_classes or 1\n",
    "\n",
    "\n",
    "    first_layer = 4\n",
    "    _model = rtdl.MLP.make_baseline(\n",
    "        d_in=X_all.shape[1],\n",
    "    #     d_layers=[first_layer, 256, 128],\n",
    "        d_layers=[first_layer, 8, first_layer],\n",
    "        dropout=0.1,\n",
    "        d_out=d_out,\n",
    "        # seed=42\n",
    "    )\n",
    "    lr = 0.001\n",
    "    weight_decay = 0.0\n",
    "\n",
    "    # model = rtdl.ResNet.make_baseline(\n",
    "    #     d_in=X_all.shape[1],\n",
    "    #     d_main=128,\n",
    "    #     d_intermidiate=256,\n",
    "    #     dropout_first=0.2,\n",
    "    #     dropout_second=0.0,\n",
    "    #     n_blocks=2,\n",
    "    #     d_out=d_out,\n",
    "    # )\n",
    "    # lr = 0.001\n",
    "    # weight_decay = 0.0\n",
    "\n",
    "    # model = rtdl.FTTransformer.make_default(\n",
    "    #     n_num_features=X_all.shape[1],\n",
    "    #     cat_cardinalities=None,\n",
    "    #     last_layer_query_idx=[-1],  # it makes the model faster and does NOT affect its output\n",
    "    #     d_out=d_out,\n",
    "    # )\n",
    "\n",
    "    # === ABOUT CATEGORICAL FEATURES ===\n",
    "    # IF you use MLP, ResNet or any other simple feed-forward model (NOT transformer-based model)\n",
    "    # AND there are categorical features\n",
    "    # THEN you have to implement a wrapper that handles categorical features.\n",
    "    # The example below demonstrates how it can be achieved using rtdl.CategoricalFeatureTokenizer.\n",
    "    # ==================================\n",
    "    # 1. When you have both numerical and categorical features, you should prepare you data like this:\n",
    "    #    (X_num<float32>, X_cat<int64>) instead of X<float32>\n",
    "    #    Each column in X_cat should contain values within the range from 0 to <(the number of unique values in column) - 1>;\n",
    "    #    use sklean.preprocessing.OrdinalEncoder to achieve this;\n",
    "    # 2. Prepare a list of so called \"cardinalities\":\n",
    "    #    cardinalities[i] = <the number of unique values of the i-th categorical feature>\n",
    "    # 3. See the commented example below and adapt it for your needs.\n",
    "    #\n",
    "    # class Model(nn.Module):\n",
    "    #     def __init__(\n",
    "    #         self,\n",
    "    #         n_num_features: int,\n",
    "    #         cat_tokenizer: rtdl.CategoricalFeatureTokenizer,\n",
    "    #         mlp_kwargs: Dict[str, Any],\n",
    "    #     ):\n",
    "    #         super().__init__()\n",
    "    #         self.cat_tokenizer = cat_tokenizer\n",
    "    #         self.model = rtdl.MLP.make_baseline(\n",
    "    #             d_in=n_num_features + cat_tokenizer.n_tokens * cat_tokenizer.d_token,\n",
    "    #             **mlp_kwargs,\n",
    "    #         )\n",
    "    #\n",
    "    #     def forward(self, x_num, x_cat):\n",
    "    #         return self.model(\n",
    "    #             torch.cat([x_num, self.cat_tokenizer(x_cat).flatten(1, -1)], dim=1)\n",
    "    #         )\n",
    "    #\n",
    "    # model = Model(\n",
    "    #     # `None` means \"Do not transform numerical features\"\n",
    "    #     # `d_token` is the size of embedding for ONE categorical feature\n",
    "    #     X_num_all.shape[1],\n",
    "    #     rtdl.CategoricalFeatureTokenizer(cardinalities, d_token, True, 'uniform'),\n",
    "    #     mlp_kwargs,\n",
    "    # )\n",
    "    # Then the model should be used as `model(x_num, x_cat)` instead of of `model(x)`.\n",
    "\n",
    "    _model.to(device)\n",
    "    optimizer = (\n",
    "        _model.make_default_optimizer()\n",
    "        if isinstance(_model, rtdl.FTTransformer)\n",
    "    #     else torch.optim.AdamW(_model.parameters(), lr=lr, weight_decay=weight_decay)\n",
    "        else torch.optim.Adam(_model.parameters(), lr=lr, weight_decay=weight_decay)\n",
    "    )\n",
    "    loss_fn = (\n",
    "        F.binary_cross_entropy_with_logits\n",
    "        if task_type == 'binclass'\n",
    "        else F.cross_entropy\n",
    "        if task_type == 'multiclass'\n",
    "        else F.mse_loss\n",
    "    )\n",
    "    return _model, optimizer, loss_fn\n"
   ]
  },
  {
   "cell_type": "code",
   "execution_count": 14,
   "id": "convinced-disposal",
   "metadata": {},
   "outputs": [],
   "source": [
    "model, optimizer, loss_fn = createModel()"
   ]
  },
  {
   "cell_type": "markdown",
   "id": "lonely-monday",
   "metadata": {},
   "source": [
    "### Training"
   ]
  },
  {
   "cell_type": "code",
   "execution_count": 21,
   "id": "inclusive-tattoo",
   "metadata": {},
   "outputs": [
    {
     "ename": "AttributeError",
     "evalue": "module 'zero' has no attribute 'data'",
     "output_type": "error",
     "traceback": [
      "\u001b[0;31m---------------------------------------------------------------------------\u001b[0m",
      "\u001b[0;31mAttributeError\u001b[0m                            Traceback (most recent call last)",
      "\u001b[0;32m/var/folders/q_/0qh2nb8s6hs3n091th2d_jc40000gn/T/ipykernel_4473/2806656552.py\u001b[0m in \u001b[0;36m<module>\u001b[0;34m\u001b[0m\n\u001b[1;32m     36\u001b[0m \u001b[0;31m# Docs: https://yura52.github.io/zero/reference/api/zero.data.IndexLoader.html\u001b[0m\u001b[0;34m\u001b[0m\u001b[0;34m\u001b[0m\u001b[0;34m\u001b[0m\u001b[0m\n\u001b[1;32m     37\u001b[0m \u001b[0mbatch_size\u001b[0m \u001b[0;34m=\u001b[0m \u001b[0;36m256\u001b[0m\u001b[0;34m\u001b[0m\u001b[0;34m\u001b[0m\u001b[0m\n\u001b[0;32m---> 38\u001b[0;31m \u001b[0mtrain_loader\u001b[0m \u001b[0;34m=\u001b[0m \u001b[0mzero\u001b[0m\u001b[0;34m.\u001b[0m\u001b[0mdata\u001b[0m\u001b[0;34m.\u001b[0m\u001b[0mIndexLoader\u001b[0m\u001b[0;34m(\u001b[0m\u001b[0mlen\u001b[0m\u001b[0;34m(\u001b[0m\u001b[0mX\u001b[0m\u001b[0;34m[\u001b[0m\u001b[0;34m'train'\u001b[0m\u001b[0;34m]\u001b[0m\u001b[0;34m)\u001b[0m\u001b[0;34m,\u001b[0m \u001b[0mbatch_size\u001b[0m\u001b[0;34m,\u001b[0m \u001b[0mdevice\u001b[0m\u001b[0;34m=\u001b[0m\u001b[0mdevice\u001b[0m\u001b[0;34m)\u001b[0m\u001b[0;34m\u001b[0m\u001b[0;34m\u001b[0m\u001b[0m\n\u001b[0m\u001b[1;32m     39\u001b[0m \u001b[0;34m\u001b[0m\u001b[0m\n\u001b[1;32m     40\u001b[0m \u001b[0;31m# Create a progress tracker for early stopping\u001b[0m\u001b[0;34m\u001b[0m\u001b[0;34m\u001b[0m\u001b[0;34m\u001b[0m\u001b[0m\n",
      "\u001b[0;31mAttributeError\u001b[0m: module 'zero' has no attribute 'data'"
     ]
    }
   ],
   "source": [
    "def apply_model(x_num, x_cat=None, model=None):\n",
    "    if isinstance(model, rtdl.FTTransformer):\n",
    "        return model(x_num, x_cat)\n",
    "    elif isinstance(model, (rtdl.MLP, rtdl.ResNet)):\n",
    "        assert x_cat is None\n",
    "        return model(x_num)\n",
    "    else:\n",
    "        raise NotImplementedError(\n",
    "            f'Looks like you are using a custom model: {type(model)}.'\n",
    "            ' Then you have to implement this branch first.'\n",
    "        )\n",
    "\n",
    "\n",
    "@torch.no_grad()\n",
    "def evaluate(part, model):\n",
    "    model.eval()\n",
    "    prediction = []\n",
    "    for batch in zero.iter_batches(X[part], 1024):\n",
    "        prediction.append(apply_model(batch,model=model))\n",
    "    prediction = torch.cat(prediction).squeeze(1).cpu().numpy()\n",
    "    target = y[part].cpu().numpy()\n",
    "\n",
    "    if task_type == 'binclass':\n",
    "        prediction = np.round(scipy.special.expit(prediction))\n",
    "        score = sklearn.metrics.accuracy_score(target, prediction)\n",
    "    elif task_type == 'multiclass':\n",
    "        prediction = prediction.argmax(1)\n",
    "        score = sklearn.metrics.accuracy_score(target, prediction)\n",
    "    else:\n",
    "        assert task_type == 'regression'\n",
    "        score = sklearn.metrics.mean_squared_error(target, prediction) ** 0.5 * y_std\n",
    "    return score\n",
    "\n",
    "\n",
    "# Create a dataloader for batches of indices\n",
    "# Docs: https://yura52.github.io/zero/reference/api/zero.data.IndexLoader.html\n",
    "batch_size = 256\n",
    "train_loader = zero.data.IndexLoader(len(X['train']), batch_size, device=device)\n",
    "\n",
    "# Create a progress tracker for early stopping\n",
    "# Docs: https://yura52.github.io/zero/reference/api/zero.ProgressTracker.html\n",
    "progress = zero.ProgressTracker(patience=100)\n",
    "\n",
    "print(f'Test score before training: {evaluate(\"test\",model):.4f}')"
   ]
  },
  {
   "cell_type": "code",
   "execution_count": 16,
   "id": "annual-liver",
   "metadata": {},
   "outputs": [],
   "source": [
    "from matplotlib import pyplot as plt\n",
    "\n",
    "def plotLosses(_losses, title=\"this is a graph\"):\n",
    "    for key in _losses:\n",
    "        plt.plot([np.log(x) for x in _losses[key]], label=key)\n",
    "    plt.xlabel(\"epoch\")\n",
    "    plt.ylabel(\"loss\")\n",
    "    plt.legend()\n",
    "    plt.title(title)\n",
    "    plt.show()\n",
    "    plt.close()"
   ]
  },
  {
   "cell_type": "code",
   "execution_count": 17,
   "id": "personalized-house",
   "metadata": {},
   "outputs": [],
   "source": [
    "def learnThat(_model, _optimizer, _loss_fn, _evaluate, _progress,_X, _y, _epochs, _batch_size,_train_loader, _relational_batch, _old_X, print_mode):\n",
    "\n",
    "    report_frequency = len(X['train']) // _batch_size // 5\n",
    "    losses = dict()\n",
    "    losses['val']  = []\n",
    "    losses['test'] = []\n",
    "    for epoch in range(1, _epochs + 1):\n",
    "        for iteration, batch_idx in enumerate(train_loader):\n",
    "            _model.train()\n",
    "            _optimizer.zero_grad()\n",
    "            x_batch = _X['train'][batch_idx]\n",
    "            y_batch = _y['train'][batch_idx]\n",
    "            loss = _loss_fn(apply_model(x_batch,model=_model).squeeze(1), y_batch)\n",
    "            loss.backward()\n",
    "\n",
    "            factors = dict()\n",
    "\n",
    "            ## Modify gradients\n",
    "            if _relational_batch:\n",
    "                for name, param in model.named_parameters():\n",
    "                    if name==\"blocks.0.linear.weight\":                    \n",
    "                        column_count = df.shape[1] - 1\n",
    "                        factors = torch.ones(column_count,param.grad.shape[0])\n",
    "                        for i in range(column_count):\n",
    "                            column = oldX['train'].columns[i]\n",
    "                            if True:# not column in oldNames:\n",
    "                                idx = oldX['train'][iteration * batch_size:(iteration+1) * batch_size].columns[i]\n",
    "                                realCount = oldX['train'][iteration * batch_size:(iteration+1) * batch_size][idx].sum()\n",
    "                                if realCount > 0:\n",
    "                                    factors[i] = (batch_size / (1.0 * realCount)) * factors[i]\n",
    "                                else:\n",
    "                                    ()\n",
    "                                    # factors[i] = float('nan') * factors[i] \n",
    "                        param.grad = torch.mul(param.grad, torch.transpose(factors,0,1))\n",
    "\n",
    "            optimizer.step()\n",
    "            if iteration % report_frequency == 0:\n",
    "                batch = \"batch\"\n",
    "                if relational_batch:\n",
    "                    batch= \"relational-batch\"\n",
    "                if print_mode:\n",
    "                    print(f'(epoch) {epoch} ({batch}) {iteration} (loss) {loss.item():.4f}')\n",
    "\n",
    "\n",
    "        losses['val'].append(float(loss_fn(apply_model(X['val'],model=_model).squeeze(1), y['val'])))\n",
    "        losses['test'].append(float(loss_fn(apply_model(X['test'],model=_model).squeeze(1), y['test'])))\n",
    "\n",
    "\n",
    "        val_score  = _evaluate('val',_model)\n",
    "        test_score = _evaluate('test',_model)\n",
    "        _progress.update((-1 if task_type == 'regression' else 1) * val_score)\n",
    "        if _progress.fail:\n",
    "            break\n",
    "        if print_mode:\n",
    "            print(f'Epoch {epoch:03d} | Validation score: {val_score:.4f} | Test score: {test_score:.4f}', end='')\n",
    "            if _progress.success and print_mode:\n",
    "                print(' <<< BEST VALIDATION EPOCH', end='')\n",
    "    if print_mode:\n",
    "        plotLosses(losses, \"relational batch ? \" + str(_relational_batch))\n",
    "    return losses"
   ]
  },
  {
   "cell_type": "code",
   "execution_count": 18,
   "id": "numerous-correction",
   "metadata": {},
   "outputs": [],
   "source": [
    "epochs = 2"
   ]
  },
  {
   "cell_type": "code",
   "execution_count": 19,
   "id": "narrow-anxiety",
   "metadata": {},
   "outputs": [
    {
     "ename": "NameError",
     "evalue": "name 'progress' is not defined",
     "output_type": "error",
     "traceback": [
      "\u001b[0;31m---------------------------------------------------------------------------\u001b[0m",
      "\u001b[0;31mNameError\u001b[0m                                 Traceback (most recent call last)",
      "\u001b[0;32m/var/folders/q_/0qh2nb8s6hs3n091th2d_jc40000gn/T/ipykernel_4473/1550670537.py\u001b[0m in \u001b[0;36m<module>\u001b[0;34m\u001b[0m\n\u001b[1;32m     11\u001b[0m         \u001b[0m_loss_fn\u001b[0m  \u001b[0;34m=\u001b[0m\u001b[0mloss_fn\u001b[0m\u001b[0;34m,\u001b[0m\u001b[0;34m\u001b[0m\u001b[0;34m\u001b[0m\u001b[0m\n\u001b[1;32m     12\u001b[0m         \u001b[0m_evaluate\u001b[0m \u001b[0;34m=\u001b[0m\u001b[0mevaluate\u001b[0m\u001b[0;34m,\u001b[0m\u001b[0;34m\u001b[0m\u001b[0;34m\u001b[0m\u001b[0m\n\u001b[0;32m---> 13\u001b[0;31m         \u001b[0m_progress\u001b[0m \u001b[0;34m=\u001b[0m\u001b[0mprogress\u001b[0m\u001b[0;34m,\u001b[0m\u001b[0;34m\u001b[0m\u001b[0;34m\u001b[0m\u001b[0m\n\u001b[0m\u001b[1;32m     14\u001b[0m         \u001b[0m_X\u001b[0m\u001b[0;34m=\u001b[0m\u001b[0mX\u001b[0m\u001b[0;34m,\u001b[0m\u001b[0;34m\u001b[0m\u001b[0;34m\u001b[0m\u001b[0m\n\u001b[1;32m     15\u001b[0m         \u001b[0m_y\u001b[0m\u001b[0;34m=\u001b[0m\u001b[0my\u001b[0m\u001b[0;34m,\u001b[0m\u001b[0;34m\u001b[0m\u001b[0;34m\u001b[0m\u001b[0m\n",
      "\u001b[0;31mNameError\u001b[0m: name 'progress' is not defined"
     ]
    }
   ],
   "source": [
    "results = dict()\n",
    "results[\"rb\"] = []\n",
    "results[\"norb\"] = []\n",
    "k = 1\n",
    "for _ in range(k):\n",
    "    model, optimizer, loss_fn = createModel()\n",
    "    relational_batch = True\n",
    "    losses = learnThat(\n",
    "        _model    =model, \n",
    "        _optimizer=optimizer, \n",
    "        _loss_fn  =loss_fn, \n",
    "        _evaluate =evaluate, \n",
    "        _progress =progress,\n",
    "        _X=X, \n",
    "        _y=y, \n",
    "        _epochs      =epochs, \n",
    "        _batch_size  =batch_size,\n",
    "        _train_loader=train_loader, \n",
    "        _relational_batch=relational_batch, \n",
    "        _old_X=oldX,\n",
    "        print_mode=False)\n",
    "    results[\"rb\"].append(losses[\"test\"])\n",
    "    \n",
    "    model, optimizer, loss_fn = createModel()\n",
    "    relational_batch = False\n",
    "    losses = learnThat(\n",
    "        _model    =model, \n",
    "        _optimizer=optimizer, \n",
    "        _loss_fn  =loss_fn, \n",
    "        _evaluate =evaluate, \n",
    "        _progress =progress,\n",
    "        _X=X, \n",
    "        _y=y, \n",
    "        _epochs      =epochs, \n",
    "        _batch_size  =batch_size,\n",
    "        _train_loader=train_loader, \n",
    "        _relational_batch=relational_batch, \n",
    "        _old_X=oldX,\n",
    "        print_mode=False)\n",
    "    results[\"norb\"].append(losses[\"test\"])\n",
    "    "
   ]
  },
  {
   "cell_type": "code",
   "execution_count": 18,
   "id": "broadband-shipping",
   "metadata": {},
   "outputs": [
    {
     "data": {
      "image/png": "[encoded data removed]",
      "text/plain": [
       "<Figure size 432x288 with 1 Axes>"
      ]
     },
     "metadata": {
      "needs_background": "light"
     },
     "output_type": "display_data"
    }
   ],
   "source": [
    "for i in range(k):\n",
    "\n",
    "    dico = {\"rb\": results[\"rb\"][i], \"norb\": results[\"norb\"][i]}\n",
    "    plotLosses(dico)"
   ]
  },
  {
   "cell_type": "code",
   "execution_count": 19,
   "id": "legitimate-baltimore",
   "metadata": {},
   "outputs": [
    {
     "data": {
      "image/png": "[encoded data removed]",
      "text/plain": [
       "<Figure size 288x288 with 1 Axes>"
      ]
     },
     "metadata": {
      "needs_background": "light"
     },
     "output_type": "display_data"
    }
   ],
   "source": [
    "# Random test data\n",
    "labels = [\"rb\", \"norb\"]\n",
    "colors = ['pink', 'lightblue']\n",
    "\n",
    "finalLosses = [[x[-1] for x in results[label]] for label in labels]\n",
    "\n",
    "fig, ax = plt.subplots(nrows=1, ncols=1, figsize=(4, 4))\n",
    "\n",
    "# rectangular box plot\n",
    "bplot = ax.boxplot(finalLosses,\n",
    "                     vert=True,  # vertical box alignment\n",
    "                     patch_artist=True,  # fill with color\n",
    "                     labels=labels)  # will be used to label x-ticks\n",
    "# ax1.set_title('Rectangular box plot')\n",
    "\n",
    "for patch, color in zip(bplot['boxes'], colors):\n",
    "    patch.set_facecolor(color)\n",
    "\n",
    "# adding horizontal grid lines\n",
    "ax.yaxis.grid(True)\n",
    "# ax.set_xlabel('Three separate samples')\n",
    "ax.set_ylabel('Final Loss')\n",
    "\n",
    "plt.show()"
   ]
  },
  {
   "cell_type": "code",
   "execution_count": null,
   "id": "monetary-steps",
   "metadata": {},
   "outputs": [],
   "source": []
  }
 ],
 "metadata": {
  "kernelspec": {
   "display_name": "Python 3 (ipykernel)",
   "language": "python",
   "name": "python3"
  },
  "language_info": {
   "codemirror_mode": {
    "name": "ipython",
    "version": 3
   },
   "file_extension": ".py",
   "mimetype": "text/x-python",
   "name": "python",
   "nbconvert_exporter": "python",
   "pygments_lexer": "ipython3",
   "version": "3.7.2"
  }
 },
 "nbformat": 4,
 "nbformat_minor": 5
}

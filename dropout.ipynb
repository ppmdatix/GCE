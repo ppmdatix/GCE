{
 "cells": [
  {
   "cell_type": "code",
   "execution_count": 1,
   "id": "featured-gnome",
   "metadata": {},
   "outputs": [],
   "source": [
    "from typing import Any, Dict\n",
    "\n",
    "import numpy as np\n",
    "import rtdl\n",
    "import scipy.special\n",
    "import sklearn.datasets\n",
    "import sklearn.metrics\n",
    "import sklearn.model_selection\n",
    "import sklearn.preprocessing\n",
    "import torch\n",
    "import torch.nn as nn\n",
    "import torch.nn.functional as F\n",
    "import zero\n",
    "import pandas as pd"
   ]
  },
  {
   "cell_type": "code",
   "execution_count": 9,
   "id": "mental-holder",
   "metadata": {},
   "outputs": [],
   "source": [
    "device = torch.device('cpu')"
   ]
  },
  {
   "cell_type": "code",
   "execution_count": 31,
   "id": "forced-visiting",
   "metadata": {},
   "outputs": [],
   "source": [
    "size = 10"
   ]
  },
  {
   "cell_type": "code",
   "execution_count": 32,
   "id": "offshore-annotation",
   "metadata": {},
   "outputs": [],
   "source": [
    "def createModel():\n",
    "    d_out = 1\n",
    "\n",
    "\n",
    "    first_layer = 4\n",
    "    model = rtdl.MLP.make_baseline(\n",
    "        d_in=size,\n",
    "    #     d_layers=[first_layer, 256, 128],\n",
    "        d_layers=[first_layer, 8, first_layer],\n",
    "        dropout=0.1,\n",
    "        d_out=d_out,\n",
    "        # seed=42\n",
    "    )\n",
    "    lr = 0.001\n",
    "    weight_decay = 0.0\n",
    "\n",
    "   \n",
    "\n",
    "    model.to(device)\n",
    "    optimizer = (\n",
    "        model.make_default_optimizer()\n",
    "        if isinstance(model, rtdl.FTTransformer)\n",
    "    #     else torch.optim.AdamW(model.parameters(), lr=lr, weight_decay=weight_decay)\n",
    "        else torch.optim.Adam(model.parameters(), lr=lr, weight_decay=weight_decay)\n",
    "    )\n",
    "    loss_fn = (\n",
    "        F.mse_loss\n",
    "    )\n",
    "    return model, optimizer, loss_fn\n"
   ]
  },
  {
   "cell_type": "code",
   "execution_count": 43,
   "id": "generous-lloyd",
   "metadata": {},
   "outputs": [],
   "source": [
    "def apply_model(x_num, x_cat=None, model=None):\n",
    "    if isinstance(model, rtdl.FTTransformer):\n",
    "        return model(x_num, x_cat)\n",
    "    elif isinstance(model, (rtdl.MLP, rtdl.ResNet)):\n",
    "        assert x_cat is None\n",
    "        return model(x_num)\n",
    "    else:\n",
    "        raise NotImplementedError(\n",
    "            f'Looks like you are using a custom model: {type(model)}.'\n",
    "            ' Then you have to implement this branch first.'\n",
    "        )"
   ]
  },
  {
   "cell_type": "code",
   "execution_count": 44,
   "id": "traditional-switzerland",
   "metadata": {},
   "outputs": [],
   "source": [
    "@torch.no_grad()\n",
    "def evaluate(part, model):\n",
    "    model.eval()\n",
    "    prediction = []\n",
    "    for batch in zero.iter_batches(X[part], 1024):\n",
    "        prediction.append(apply_model(batch,model=model))\n",
    "    prediction = torch.cat(prediction).squeeze(1).cpu().numpy()\n",
    "    target = y[part].cpu().numpy()\n",
    "\n",
    "    if task_type == 'binclass':\n",
    "        prediction = np.round(scipy.special.expit(prediction))\n",
    "        score = sklearn.metrics.accuracy_score(target, prediction)\n",
    "    elif task_type == 'multiclass':\n",
    "        prediction = prediction.argmax(1)\n",
    "        score = sklearn.metrics.accuracy_score(target, prediction)\n",
    "    else:\n",
    "        assert task_type == 'regression'\n",
    "        score = sklearn.metrics.mean_squared_error(target, prediction) ** 0.5 * y_std\n",
    "    return score"
   ]
  },
  {
   "cell_type": "code",
   "execution_count": 45,
   "id": "fossil-milan",
   "metadata": {},
   "outputs": [],
   "source": [
    "model, optimizer, loss_fn = createModel()"
   ]
  },
  {
   "cell_type": "code",
   "execution_count": 46,
   "id": "palestinian-nancy",
   "metadata": {},
   "outputs": [],
   "source": [
    "params = list(model.named_parameters())"
   ]
  },
  {
   "cell_type": "code",
   "execution_count": 52,
   "id": "mediterranean-hostel",
   "metadata": {},
   "outputs": [
    {
     "data": {
      "text/plain": [
       "tensor([[0.0000, 0.0000, 0.0000, 0.0000, 0.0000, 0.0000, 0.0000, 0.0000, 0.0000,\n",
       "         0.0000],\n",
       "        [0.2641, 0.2641, 0.2641, 0.2641, 0.2641, 0.2641, 0.2641, 0.2641, 0.2641,\n",
       "         0.2641],\n",
       "        [0.0000, 0.0000, 0.0000, 0.0000, 0.0000, 0.0000, 0.0000, 0.0000, 0.0000,\n",
       "         0.0000],\n",
       "        [0.0000, 0.0000, 0.0000, 0.0000, 0.0000, 0.0000, 0.0000, 0.0000, 0.0000,\n",
       "         0.0000]])"
      ]
     },
     "execution_count": 52,
     "metadata": {},
     "output_type": "execute_result"
    }
   ],
   "source": [
    "params[0][1].grad"
   ]
  },
  {
   "cell_type": "code",
   "execution_count": 51,
   "id": "moving-comedy",
   "metadata": {},
   "outputs": [
    {
     "name": "stderr",
     "output_type": "stream",
     "text": [
      "C:\\Users\\PaulPeseux\\AppData\\Roaming\\Python\\Python37\\site-packages\\ipykernel_launcher.py:4: UserWarning: Using a target size (torch.Size([1, 1])) that is different to the input size (torch.Size([4])). This will likely lead to incorrect results due to broadcasting. Please ensure they have the same size.\n",
      "  after removing the cwd from sys.path.\n"
     ]
    }
   ],
   "source": [
    "x = torch.ones((4,size))\n",
    "y = torch.ones((1,1))\n",
    "\n",
    "loss = loss_fn(apply_model(x,model=model).squeeze(1), y)\n",
    "loss.backward()"
   ]
  },
  {
   "cell_type": "code",
   "execution_count": 55,
   "id": "muslim-diamond",
   "metadata": {},
   "outputs": [],
   "source": [
    "layer = params[0][1]"
   ]
  },
  {
   "cell_type": "code",
   "execution_count": 56,
   "id": "happy-header",
   "metadata": {},
   "outputs": [],
   "source": [
    "# params[0][1].grad"
   ]
  },
  {
   "cell_type": "code",
   "execution_count": 57,
   "id": "signed-leonard",
   "metadata": {},
   "outputs": [],
   "source": [
    "do = nn.Dropout(p=0.2)"
   ]
  },
  {
   "cell_type": "code",
   "execution_count": 58,
   "id": "deadly-being",
   "metadata": {},
   "outputs": [
    {
     "data": {
      "text/plain": [
       "tensor([[-0.0606, -0.0099,  0.3611, -0.2599, -0.3535, -0.1250,  0.1934, -0.1537,\n",
       "          0.0000, -0.2951],\n",
       "        [ 0.3844,  0.1660,  0.2433, -0.2555,  0.0000, -0.0711, -0.0000, -0.0000,\n",
       "          0.0985,  0.2644],\n",
       "        [-0.0000,  0.0000, -0.0000, -0.1603, -0.2079, -0.1869, -0.0743,  0.2212,\n",
       "         -0.2119, -0.3578],\n",
       "        [-0.3835,  0.0000,  0.3686, -0.2478, -0.0810,  0.2175,  0.0000, -0.2495,\n",
       "         -0.1506,  0.1743]], grad_fn=<MulBackward0>)"
      ]
     },
     "execution_count": 58,
     "metadata": {},
     "output_type": "execute_result"
    }
   ],
   "source": [
    "do(layer)"
   ]
  },
  {
   "cell_type": "code",
   "execution_count": null,
   "id": "secure-neighborhood",
   "metadata": {},
   "outputs": [],
   "source": []
  }
 ],
 "metadata": {
  "kernelspec": {
   "display_name": "Python 3",
   "language": "python",
   "name": "python3"
  },
  "language_info": {
   "codemirror_mode": {
    "name": "ipython",
    "version": 3
   },
   "file_extension": ".py",
   "mimetype": "text/x-python",
   "name": "python",
   "nbconvert_exporter": "python",
   "pygments_lexer": "ipython3",
   "version": "3.7.11"
  }
 },
 "nbformat": 4,
 "nbformat_minor": 5
}

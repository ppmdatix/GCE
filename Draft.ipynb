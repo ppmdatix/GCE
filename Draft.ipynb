{
 "cells": [
  {
   "cell_type": "code",
   "execution_count": 87,
   "id": "eeced768",
   "metadata": {},
   "outputs": [],
   "source": [
    "from matplotlib import rcParams\n",
    "rcParams['font.family'] = 'sans-serif'\n",
    "rcParams['font.sans-serif'] = ['Tahoma']"
   ]
  },
  {
   "cell_type": "code",
   "execution_count": 88,
   "id": "2da5b6e1",
   "metadata": {},
   "outputs": [],
   "source": [
    "import pandas as pd\n",
    "from matplotlib import pyplot as plt\n",
    "import numpy as np"
   ]
  },
  {
   "cell_type": "code",
   "execution_count": 89,
   "id": "ba33d02b",
   "metadata": {},
   "outputs": [],
   "source": [
    "numerical = pd.read_csv(\"draft/numerical.csv\")\n",
    "mixed = pd.read_csv(\"draft/mixed.csv\")\n",
    "categorical = pd.read_csv(\"draft/categorical.csv\")"
   ]
  },
  {
   "cell_type": "code",
   "execution_count": 90,
   "id": "c922bcb8",
   "metadata": {},
   "outputs": [
    {
     "data": {
      "text/html": [
       "<div>\n",
       "<style scoped>\n",
       "    .dataframe tbody tr th:only-of-type {\n",
       "        vertical-align: middle;\n",
       "    }\n",
       "\n",
       "    .dataframe tbody tr th {\n",
       "        vertical-align: top;\n",
       "    }\n",
       "\n",
       "    .dataframe thead th {\n",
       "        text-align: right;\n",
       "    }\n",
       "</style>\n",
       "<table border=\"1\" class=\"dataframe\">\n",
       "  <thead>\n",
       "    <tr style=\"text-align: right;\">\n",
       "      <th></th>\n",
       "      <th>Instances</th>\n",
       "    </tr>\n",
       "  </thead>\n",
       "  <tbody>\n",
       "    <tr>\n",
       "      <th>0</th>\n",
       "      <td>7840</td>\n",
       "    </tr>\n",
       "    <tr>\n",
       "      <th>1</th>\n",
       "      <td>434874</td>\n",
       "    </tr>\n",
       "    <tr>\n",
       "      <th>2</th>\n",
       "      <td>1984</td>\n",
       "    </tr>\n",
       "    <tr>\n",
       "      <th>3</th>\n",
       "      <td>158716</td>\n",
       "    </tr>\n",
       "    <tr>\n",
       "      <th>4</th>\n",
       "      <td>590</td>\n",
       "    </tr>\n",
       "    <tr>\n",
       "      <th>...</th>\n",
       "      <td>...</td>\n",
       "    </tr>\n",
       "    <tr>\n",
       "      <th>407</th>\n",
       "      <td>308</td>\n",
       "    </tr>\n",
       "    <tr>\n",
       "      <th>408</th>\n",
       "      <td>515345</td>\n",
       "    </tr>\n",
       "    <tr>\n",
       "      <th>409</th>\n",
       "      <td>1484</td>\n",
       "    </tr>\n",
       "    <tr>\n",
       "      <th>410</th>\n",
       "      <td>120000</td>\n",
       "    </tr>\n",
       "    <tr>\n",
       "      <th>411</th>\n",
       "      <td>303</td>\n",
       "    </tr>\n",
       "  </tbody>\n",
       "</table>\n",
       "<p>412 rows × 1 columns</p>\n",
       "</div>"
      ],
      "text/plain": [
       "     Instances\n",
       "0         7840\n",
       "1       434874\n",
       "2         1984\n",
       "3       158716\n",
       "4          590\n",
       "..         ...\n",
       "407        308\n",
       "408     515345\n",
       "409       1484\n",
       "410     120000\n",
       "411        303\n",
       "\n",
       "[412 rows x 1 columns]"
      ]
     },
     "execution_count": 90,
     "metadata": {},
     "output_type": "execute_result"
    }
   ],
   "source": [
    "numerical"
   ]
  },
  {
   "cell_type": "code",
   "execution_count": 91,
   "id": "961c6349",
   "metadata": {},
   "outputs": [],
   "source": [
    "limit = 1000"
   ]
  },
  {
   "cell_type": "code",
   "execution_count": 92,
   "id": "82aa79b8",
   "metadata": {},
   "outputs": [],
   "source": [
    "categorical = categorical.drop(categorical[categorical.Instances < limit].index)\n",
    "numerical = numerical.drop(numerical[numerical.Instances < limit].index)"
   ]
  },
  {
   "cell_type": "code",
   "execution_count": 93,
   "id": "a5294646",
   "metadata": {},
   "outputs": [
    {
     "data": {
      "text/plain": [
       "(     Instances\n",
       " 0         7840\n",
       " 1       434874\n",
       " 2         1984\n",
       " 3       158716\n",
       " 7       153000\n",
       " ..         ...\n",
       " 405       2000\n",
       " 406   15630426\n",
       " 408     515345\n",
       " 409       1484\n",
       " 410     120000\n",
       " \n",
       " [255 rows x 1 columns],\n",
       "     Instances\n",
       " 0       37711\n",
       " 6        1728\n",
       " 7        3196\n",
       " 9       67557\n",
       " 10      20008\n",
       " 11      50672\n",
       " 13       6590\n",
       " 19       3190\n",
       " 21     989818\n",
       " 22       8124\n",
       " 23      12960\n",
       " 24      22632\n",
       " 26      21578\n",
       " 28       1389\n",
       " 35    2458285)"
      ]
     },
     "execution_count": 93,
     "metadata": {},
     "output_type": "execute_result"
    }
   ],
   "source": [
    "numerical, categorical"
   ]
  },
  {
   "cell_type": "code",
   "execution_count": 104,
   "id": "dabe64f6",
   "metadata": {},
   "outputs": [
    {
     "data": {
      "image/png": "[encoded data removed]",
      "text/plain": [
       "<Figure size 432x288 with 1 Axes>"
      ]
     },
     "metadata": {
      "needs_background": "light"
     },
     "output_type": "display_data"
    }
   ],
   "source": [
    "n_bins = 20\n",
    "\n",
    "fig, axs = plt.subplots(1, sharey=True, tight_layout=True)\n",
    "\n",
    "# We can set the number of bins with the *bins* keyword argument.\n",
    "# plt.ylim(10,100)\n",
    "\n",
    "axs.hist(np.log(numerical.Instances), bins=n_bins, label=\"all datasets\")\n",
    "axs.hist(np.log(categorical.Instances), bins=n_bins, label=\"categorical datasets\")\n",
    "# axs[1].hist(mixed.Instances, bins=n_bins)\n",
    "plt.xlabel(\"size (log-scale)\", fontdict={\"size\":16})\n",
    "plt.legend()\n",
    "plt.grid()\n",
    "plt.title(\"Datasets size frequence\", fontdict={\"size\":30})\n",
    "\n",
    "\n",
    "plt.show()"
   ]
  },
  {
   "cell_type": "code",
   "execution_count": null,
   "id": "1a68a194",
   "metadata": {},
   "outputs": [],
   "source": []
  },
  {
   "cell_type": "code",
   "execution_count": null,
   "id": "588ab485",
   "metadata": {},
   "outputs": [],
   "source": []
  },
  {
   "cell_type": "code",
   "execution_count": null,
   "id": "b03e6d81",
   "metadata": {},
   "outputs": [],
   "source": []
  }
 ],
 "metadata": {
  "kernelspec": {
   "display_name": "Python 3",
   "language": "python",
   "name": "python3"
  },
  "language_info": {
   "codemirror_mode": {
    "name": "ipython",
    "version": 3
   },
   "file_extension": ".py",
   "mimetype": "text/x-python",
   "name": "python",
   "nbconvert_exporter": "python",
   "pygments_lexer": "ipython3",
   "version": "3.8.8"
  }
 },
 "nbformat": 4,
 "nbformat_minor": 5
}

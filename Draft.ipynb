{
 "cells": [
  {
   "cell_type": "code",
   "execution_count": 25,
   "id": "revised-sullivan",
   "metadata": {},
   "outputs": [],
   "source": [
    "from typing import Any, Dict\n",
    "\n",
    "import numpy as np\n",
    "import rtdl\n",
    "import scipy.special\n",
    "import sklearn.datasets\n",
    "import sklearn.metrics\n",
    "import sklearn.model_selection\n",
    "import sklearn.preprocessing\n",
    "import torch\n",
    "import torch.nn as nn\n",
    "import torch.nn.functional as F\n",
    "import zero\n",
    "import pandas as pd\n",
    "import csv\n",
    "\n",
    "device = torch.device('cpu')\n",
    "\n",
    "from one_hot_encode import one_hot_encode\n",
    "\n",
    "\n",
    "directory = \"data/KDD99/\"\n",
    "filename = \"fetch_kddcup99.csv\"\n",
    "category_features_file = \"categorical_features.csv\"\n",
    "target = \"labels\"\n",
    "\n",
    "\n",
    "with open(directory + category_features_file, newline='') as f:\n",
    "    reader = csv.reader(f)\n",
    "    cat_feat = list(reader)[0]\n",
    "\n",
    "    \n",
    "df = pd.read_csv(directory + filename)\n",
    "df[\"target\"] = df[target]# df.income\n",
    "df = df.drop(target, axis=1)\n",
    "oldNames = df.columns\n",
    "output = df.target.values\n",
    "labels = set(output)\n",
    "\n",
    "\n",
    "\n",
    "for c in df.columns:\n",
    "    if (not c in cat_feat) and (c != \"target\"):\n",
    "        df = df.drop(c, axis=1)\n",
    "        \n",
    "        \n",
    "for col in df.columns:\n",
    "    if col != \"target\":\n",
    "        df = one_hot_encode(df, col)\n",
    "        df = df.drop(col, axis=1)\n",
    "        \n",
    "        \n",
    "df[\"target\"] = df[\"target\"].apply(lambda x: str(x))\n",
    "\n",
    "\n",
    "df.to_csv(\"data/KDD99/training_processed.csv\", index=False)\n",
    "        \n",
    "        \n"
   ]
  },
  {
   "cell_type": "code",
   "execution_count": 27,
   "id": "1f130af3",
   "metadata": {},
   "outputs": [],
   "source": [
    "directory = \"data/KDD99/\"\n",
    "filename = \"fetch_kddcup99.csv\"\n",
    "category_features_file = \"categorical_features.csv\"\n",
    "target = \"labels\"\n",
    "\n",
    "\n",
    "with open(directory + category_features_file, newline='') as f:\n",
    "    reader = csv.reader(f)\n",
    "    cat_feat = list(reader)[0]\n",
    "\n",
    "    \n",
    "df = pd.read_csv(directory + filename)\n",
    "df[\"target\"] = df[target]# df.income\n",
    "df = df.drop(target, axis=1)\n",
    "oldNames = df.columns\n",
    "output = df.target.values\n",
    "labels = set(output)\n",
    "\n",
    "\n",
    "\n",
    "for c in df.columns:\n",
    "    if (not c in cat_feat) and (c != \"target\"):\n",
    "        df = df.drop(c, axis=1)\n",
    "        \n",
    "        \n",
    "for col in df.columns:\n",
    "    if col != \"target\":\n",
    "        df = one_hot_encode(df, col)\n",
    "        df = df.drop(col, axis=1)\n",
    "        \n",
    "        \n",
    "df[\"target\"] = df[\"target\"].apply(lambda x: str(x))\n",
    "\n",
    "\n",
    "df.to_csv(\"data/KDD99/training_processed.csv\", index=False)\n",
    "        \n",
    "        "
   ]
  },
  {
   "cell_type": "code",
   "execution_count": 45,
   "id": "b863956e",
   "metadata": {},
   "outputs": [],
   "source": [
    "from matplotlib import pyplot as plt"
   ]
  },
  {
   "cell_type": "code",
   "execution_count": 49,
   "id": "079ee177",
   "metadata": {},
   "outputs": [],
   "source": [
    "resultsnorb = pd.read_csv(\"results/KDD99/training_processed/epochs15-batch-size15-relational-batchFalse.csv\")\n",
    "resultsrb = pd.read_csv(\"results/KDD99/training_processed/epochs15-batch-size15-relational-batchTrue.csv\")"
   ]
  },
  {
   "cell_type": "code",
   "execution_count": 54,
   "id": "f9587a8b",
   "metadata": {},
   "outputs": [
    {
     "data": {
      "text/plain": [
       "[0.2926461398601532,\n",
       " 0.2313143163919448,\n",
       " 0.2108805328607559,\n",
       " 0.1961488425731659,\n",
       " 0.1821834444999694,\n",
       " 0.1734119653701782,\n",
       " 0.1713939160108566,\n",
       " 0.1685001254081726,\n",
       " 0.1686265915632248,\n",
       " 0.168832927942276,\n",
       " 0.1667793989181518,\n",
       " 0.1661327630281448,\n",
       " 0.1673182547092437,\n",
       " 0.1673203706741333,\n",
       " 0.1629132330417633]"
      ]
     },
     "execution_count": 54,
     "metadata": {},
     "output_type": "execute_result"
    }
   ],
   "source": [
    "list(resultsnorb[\"test\"])"
   ]
  },
  {
   "cell_type": "code",
   "execution_count": 55,
   "id": "4deed847",
   "metadata": {},
   "outputs": [],
   "source": [
    "results = {\"rb\": list(resultsrb[\"test\"]), \"norb\": list(resultsnorb[\"test\"])}"
   ]
  },
  {
   "cell_type": "code",
   "execution_count": 56,
   "id": "dc024bca",
   "metadata": {},
   "outputs": [
    {
     "ename": "TypeError",
     "evalue": "'float' object is not subscriptable",
     "output_type": "error",
     "traceback": [
      "\u001b[0;31m---------------------------------------------------------------------------\u001b[0m",
      "\u001b[0;31mTypeError\u001b[0m                                 Traceback (most recent call last)",
      "Input \u001b[0;32mIn [56]\u001b[0m, in \u001b[0;36m<module>\u001b[0;34m\u001b[0m\n\u001b[1;32m      2\u001b[0m labels \u001b[38;5;241m=\u001b[39m [\u001b[38;5;124m\"\u001b[39m\u001b[38;5;124mrb\u001b[39m\u001b[38;5;124m\"\u001b[39m, \u001b[38;5;124m\"\u001b[39m\u001b[38;5;124mnorb\u001b[39m\u001b[38;5;124m\"\u001b[39m]\n\u001b[1;32m      3\u001b[0m colors \u001b[38;5;241m=\u001b[39m [\u001b[38;5;124m'\u001b[39m\u001b[38;5;124mpink\u001b[39m\u001b[38;5;124m'\u001b[39m, \u001b[38;5;124m'\u001b[39m\u001b[38;5;124mlightblue\u001b[39m\u001b[38;5;124m'\u001b[39m]\n\u001b[0;32m----> 5\u001b[0m finalLosses \u001b[38;5;241m=\u001b[39m [[x[\u001b[38;5;241m-\u001b[39m\u001b[38;5;241m1\u001b[39m] \u001b[38;5;28;01mfor\u001b[39;00m x \u001b[38;5;129;01min\u001b[39;00m results[label]] \u001b[38;5;28;01mfor\u001b[39;00m label \u001b[38;5;129;01min\u001b[39;00m labels]\n\u001b[1;32m      7\u001b[0m fig, ax \u001b[38;5;241m=\u001b[39m plt\u001b[38;5;241m.\u001b[39msubplots(nrows\u001b[38;5;241m=\u001b[39m\u001b[38;5;241m1\u001b[39m, ncols\u001b[38;5;241m=\u001b[39m\u001b[38;5;241m1\u001b[39m, figsize\u001b[38;5;241m=\u001b[39m(\u001b[38;5;241m4\u001b[39m, \u001b[38;5;241m4\u001b[39m))\n\u001b[1;32m      9\u001b[0m \u001b[38;5;66;03m# rectangular box plot\u001b[39;00m\n",
      "Input \u001b[0;32mIn [56]\u001b[0m, in \u001b[0;36m<listcomp>\u001b[0;34m(.0)\u001b[0m\n\u001b[1;32m      2\u001b[0m labels \u001b[38;5;241m=\u001b[39m [\u001b[38;5;124m\"\u001b[39m\u001b[38;5;124mrb\u001b[39m\u001b[38;5;124m\"\u001b[39m, \u001b[38;5;124m\"\u001b[39m\u001b[38;5;124mnorb\u001b[39m\u001b[38;5;124m\"\u001b[39m]\n\u001b[1;32m      3\u001b[0m colors \u001b[38;5;241m=\u001b[39m [\u001b[38;5;124m'\u001b[39m\u001b[38;5;124mpink\u001b[39m\u001b[38;5;124m'\u001b[39m, \u001b[38;5;124m'\u001b[39m\u001b[38;5;124mlightblue\u001b[39m\u001b[38;5;124m'\u001b[39m]\n\u001b[0;32m----> 5\u001b[0m finalLosses \u001b[38;5;241m=\u001b[39m [[x[\u001b[38;5;241m-\u001b[39m\u001b[38;5;241m1\u001b[39m] \u001b[38;5;28;01mfor\u001b[39;00m x \u001b[38;5;129;01min\u001b[39;00m results[label]] \u001b[38;5;28;01mfor\u001b[39;00m label \u001b[38;5;129;01min\u001b[39;00m labels]\n\u001b[1;32m      7\u001b[0m fig, ax \u001b[38;5;241m=\u001b[39m plt\u001b[38;5;241m.\u001b[39msubplots(nrows\u001b[38;5;241m=\u001b[39m\u001b[38;5;241m1\u001b[39m, ncols\u001b[38;5;241m=\u001b[39m\u001b[38;5;241m1\u001b[39m, figsize\u001b[38;5;241m=\u001b[39m(\u001b[38;5;241m4\u001b[39m, \u001b[38;5;241m4\u001b[39m))\n\u001b[1;32m      9\u001b[0m \u001b[38;5;66;03m# rectangular box plot\u001b[39;00m\n",
      "Input \u001b[0;32mIn [56]\u001b[0m, in \u001b[0;36m<listcomp>\u001b[0;34m(.0)\u001b[0m\n\u001b[1;32m      2\u001b[0m labels \u001b[38;5;241m=\u001b[39m [\u001b[38;5;124m\"\u001b[39m\u001b[38;5;124mrb\u001b[39m\u001b[38;5;124m\"\u001b[39m, \u001b[38;5;124m\"\u001b[39m\u001b[38;5;124mnorb\u001b[39m\u001b[38;5;124m\"\u001b[39m]\n\u001b[1;32m      3\u001b[0m colors \u001b[38;5;241m=\u001b[39m [\u001b[38;5;124m'\u001b[39m\u001b[38;5;124mpink\u001b[39m\u001b[38;5;124m'\u001b[39m, \u001b[38;5;124m'\u001b[39m\u001b[38;5;124mlightblue\u001b[39m\u001b[38;5;124m'\u001b[39m]\n\u001b[0;32m----> 5\u001b[0m finalLosses \u001b[38;5;241m=\u001b[39m [[\u001b[43mx\u001b[49m\u001b[43m[\u001b[49m\u001b[38;5;241;43m-\u001b[39;49m\u001b[38;5;241;43m1\u001b[39;49m\u001b[43m]\u001b[49m \u001b[38;5;28;01mfor\u001b[39;00m x \u001b[38;5;129;01min\u001b[39;00m results[label]] \u001b[38;5;28;01mfor\u001b[39;00m label \u001b[38;5;129;01min\u001b[39;00m labels]\n\u001b[1;32m      7\u001b[0m fig, ax \u001b[38;5;241m=\u001b[39m plt\u001b[38;5;241m.\u001b[39msubplots(nrows\u001b[38;5;241m=\u001b[39m\u001b[38;5;241m1\u001b[39m, ncols\u001b[38;5;241m=\u001b[39m\u001b[38;5;241m1\u001b[39m, figsize\u001b[38;5;241m=\u001b[39m(\u001b[38;5;241m4\u001b[39m, \u001b[38;5;241m4\u001b[39m))\n\u001b[1;32m      9\u001b[0m \u001b[38;5;66;03m# rectangular box plot\u001b[39;00m\n",
      "\u001b[0;31mTypeError\u001b[0m: 'float' object is not subscriptable"
     ]
    }
   ],
   "source": [
    "# Random test data\n",
    "labels = [\"rb\", \"norb\"]\n",
    "colors = ['pink', 'lightblue']\n",
    "\n",
    "finalLosses = [[x[-1] for x in results[label]] for label in labels]\n",
    "\n",
    "fig, ax = plt.subplots(nrows=1, ncols=1, figsize=(4, 4))\n",
    "\n",
    "bplot = ax.boxplot(finalLosses,\n",
    "                     vert=True,  \n",
    "                     patch_artist=True,  \n",
    "                     labels=labels)\n",
    "\n",
    "for patch, color in zip(bplot['boxes'], colors):\n",
    "    patch.set_facecolor(color)\n",
    "\n",
    "ax.yaxis.grid(True)\n",
    "ax.set_ylabel('Final Loss')\n",
    "plt.show()"
   ]
  },
  {
   "cell_type": "code",
   "execution_count": null,
   "id": "9e5e0baf",
   "metadata": {},
   "outputs": [],
   "source": []
  }
 ],
 "metadata": {
  "kernelspec": {
   "display_name": "Python 3 (ipykernel)",
   "language": "python",
   "name": "python3"
  },
  "language_info": {
   "codemirror_mode": {
    "name": "ipython",
    "version": 3
   },
   "file_extension": ".py",
   "mimetype": "text/x-python",
   "name": "python",
   "nbconvert_exporter": "python",
   "pygments_lexer": "ipython3",
   "version": "3.8.8"
  }
 },
 "nbformat": 4,
 "nbformat_minor": 5
}

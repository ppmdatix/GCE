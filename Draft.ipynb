{
 "cells": [
  {
   "cell_type": "code",
   "execution_count": 1,
   "id": "2e770506",
   "metadata": {},
   "outputs": [],
   "source": [
    "import pandas as pd\n",
    "from matplotlib import pyplot as plt"
   ]
  },
  {
   "cell_type": "code",
   "execution_count": 2,
   "id": "798d3fb5",
   "metadata": {},
   "outputs": [],
   "source": [
    "pwdNR = \"C:/Users/PaulPeseux/Desktop/lossNoRelational.csv\"\n",
    "pwd = \"C:/Users/PaulPeseux/Desktop/lossRelational.csv\""
   ]
  },
  {
   "cell_type": "code",
   "execution_count": 3,
   "id": "becfbf9d",
   "metadata": {},
   "outputs": [],
   "source": [
    "df = pd.read_csv(pwd, sep=\"\\t\")\n",
    "dfNR = pd.read_csv(pwdNR, sep=\"\\t\")"
   ]
  },
  {
   "cell_type": "code",
   "execution_count": 4,
   "id": "6ce625ca",
   "metadata": {},
   "outputs": [
    {
     "data": {
      "image/png": "[encoded data removed]",
      "text/plain": [
       "<Figure size 432x288 with 1 Axes>"
      ]
     },
     "metadata": {
      "needs_background": "light"
     },
     "output_type": "display_data"
    }
   ],
   "source": [
    "plt.plot(df.Epoch, df.Loss, label=\"train-loss GSE\", color=\"red\")\n",
    "plt.plot(df.Epoch, df[\"Loss (val.)\"],  \"--\",label=\"validation-loss GSE\", color=\"red\")\n",
    "plt.plot(dfNR.Epoch, dfNR.Loss, label=\"train-loss\", color=\"blue\")\n",
    "plt.plot(dfNR.Epoch, dfNR[\"Loss (val.)\"],  \"--\",label=\"validation-loss\", color=\"blue\")\n",
    "plt.legend()\n",
    "plt.show()\n",
    "plt.close()"
   ]
  },
  {
   "cell_type": "code",
   "execution_count": 5,
   "id": "f820de85",
   "metadata": {},
   "outputs": [],
   "source": [
    "test = {\"t\": 12, \"r\": 13}"
   ]
  },
  {
   "cell_type": "code",
   "execution_count": 7,
   "id": "b289d09e",
   "metadata": {},
   "outputs": [
    {
     "name": "stdout",
     "output_type": "stream",
     "text": [
      "t\n",
      "r\n"
     ]
    }
   ],
   "source": [
    "for t in test:\n",
    "    print(t)"
   ]
  },
  {
   "cell_type": "code",
   "execution_count": 1,
   "id": "1d09c7c9",
   "metadata": {},
   "outputs": [],
   "source": [
    "import time"
   ]
  },
  {
   "cell_type": "code",
   "execution_count": 9,
   "id": "eefc653b",
   "metadata": {},
   "outputs": [
    {
     "data": {
      "text/plain": [
       "1651753116.007588"
      ]
     },
     "execution_count": 9,
     "metadata": {},
     "output_type": "execute_result"
    }
   ],
   "source": [
    "time.time()"
   ]
  },
  {
   "cell_type": "code",
   "execution_count": null,
   "id": "a42de424",
   "metadata": {},
   "outputs": [],
   "source": []
  }
 ],
 "metadata": {
  "kernelspec": {
   "display_name": "Python 3",
   "language": "python",
   "name": "python3"
  },
  "language_info": {
   "codemirror_mode": {
    "name": "ipython",
    "version": 3
   },
   "file_extension": ".py",
   "mimetype": "text/x-python",
   "name": "python",
   "nbconvert_exporter": "python",
   "pygments_lexer": "ipython3",
   "version": "3.8.8"
  }
 },
 "nbformat": 4,
 "nbformat_minor": 5
}

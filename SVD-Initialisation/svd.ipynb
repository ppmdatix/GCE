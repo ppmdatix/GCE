{
 "cells": [
  {
   "cell_type": "markdown",
   "id": "3d251640",
   "metadata": {},
   "source": [
    "# Imports"
   ]
  },
  {
   "cell_type": "code",
   "execution_count": 1,
   "id": "59912717",
   "metadata": {},
   "outputs": [],
   "source": [
    "import pandas as pd\n",
    "import numpy as np\n",
    "from scipy.linalg import svd"
   ]
  },
  {
   "cell_type": "markdown",
   "id": "4cc21fbc",
   "metadata": {},
   "source": [
    "# Data loading"
   ]
  },
  {
   "cell_type": "code",
   "execution_count": 2,
   "id": "909d68ee",
   "metadata": {},
   "outputs": [],
   "source": [
    "items = pd.read_csv(\"Tables/18072022ItemsFAKE.csv\")\n",
    "sales = pd.read_csv(\"Tables/18072022SalesWeekFAKE.csv\")"
   ]
  },
  {
   "cell_type": "markdown",
   "id": "b8655ddc",
   "metadata": {},
   "source": [
    "# Creating on big raw table.\n",
    "\n",
    "(This is what we want to avoid thanks to query differentiation)"
   ]
  },
  {
   "cell_type": "code",
   "execution_count": 3,
   "id": "44af54ed",
   "metadata": {},
   "outputs": [],
   "source": [
    "mergedSales = sales.merge(items, on='Id', how='right')"
   ]
  },
  {
   "cell_type": "markdown",
   "id": "2949dd72",
   "metadata": {},
   "source": [
    "## Turning the table into a matrix for SVD"
   ]
  },
  {
   "cell_type": "code",
   "execution_count": 4,
   "id": "9aecaffa",
   "metadata": {},
   "outputs": [],
   "source": [
    "table = pd.pivot_table(mergedSales, index='feature-H', columns='feature-I', values='Quantity')\n",
    "table.fillna(0,inplace=True)\n",
    "A = table.values"
   ]
  },
  {
   "cell_type": "code",
   "execution_count": 5,
   "id": "91318d1e",
   "metadata": {},
   "outputs": [],
   "source": [
    "def error(M, A):\n",
    "    return np.sum(np.square(M-A))"
   ]
  },
  {
   "cell_type": "markdown",
   "id": "be582c50",
   "metadata": {},
   "source": [
    "## SVD"
   ]
  },
  {
   "cell_type": "code",
   "execution_count": 6,
   "id": "f19d1dcb",
   "metadata": {},
   "outputs": [
    {
     "name": "stdout",
     "output_type": "stream",
     "text": [
      "d:\n",
      "[0.48564404 0.13671141 0.05456487 0.01620178 0.00818374]\n",
      "\n",
      "U:\n",
      "[[-0.41399143 -0.01535428 -0.36741403 -0.47772365 -0.68202815]\n",
      " [-0.09662059  0.05253022 -0.12515334  0.86193964 -0.47885461]\n",
      " [-0.71347233  0.08573978 -0.40766916  0.15631119  0.54127497]\n",
      " [ 0.11644688 -0.94464914 -0.29315906  0.06359425  0.06396608]\n",
      " [ 0.5446769   0.31191587 -0.77279182 -0.01904619  0.09200876]]\n",
      "\n",
      "V:\n",
      "[[-3.87749182e-01 -3.33461403e-01 -4.40866406e-01 -3.63610462e-01\n",
      "  -2.95814734e-01 -3.32704642e-01 -2.03873949e-01 -4.14867432e-01]\n",
      " [ 3.73436959e-01  1.00892292e-01  3.39463080e-01 -5.00639901e-01\n",
      "   4.29210454e-02 -6.68364958e-01 -5.63337659e-02  1.81004594e-01]\n",
      " [ 2.43275762e-01 -7.97645843e-02  3.52412023e-02  3.88379830e-02\n",
      "  -7.75456667e-01  1.94489695e-01 -4.03308186e-01  3.60398955e-01]\n",
      " [-7.95860002e-01  1.18225714e-01  3.69076238e-01 -1.29439908e-01\n",
      "  -8.66808002e-02 -3.50620891e-02  5.35979870e-02  4.33638009e-01]\n",
      " [ 1.32737222e-01 -4.02904245e-01 -9.45775653e-02 -5.00964247e-01\n",
      "  -8.33692005e-02  3.41781160e-01  6.23463053e-01  2.18329896e-01]\n",
      " [-1.04149931e-16 -5.65210237e-01  5.76316149e-01 -1.04685700e-01\n",
      "   2.30148570e-01  2.64978988e-01 -3.88095988e-01 -2.52264273e-01]\n",
      " [ 4.89051851e-16 -4.31982913e-01  2.42740182e-01  5.55525944e-01\n",
      "  -2.76096473e-01 -4.29363235e-01  4.25426516e-01 -6.54913944e-02]\n",
      " [-6.52069135e-16 -4.35753199e-01 -3.91068283e-01  1.68376646e-01\n",
      "   4.07009550e-01 -1.79330140e-01 -2.63475404e-01  6.01330767e-01]]\n",
      "error svd    : 0.000000\n",
      "approximation 0 error    : 0.021997\n",
      "approximation 1 error    : 0.239157\n",
      "approximation 2 error    : 0.254870\n",
      "approximation 3 error    : 0.257584\n"
     ]
    }
   ],
   "source": [
    "U, d, V = svd(A, full_matrices=True)\n",
    "U = np.transpose(U)\n",
    "\n",
    "print(\"d:\")\n",
    "print(d)\n",
    "print(\"\\nU:\")\n",
    "print(U)\n",
    "print(\"\\nV:\")\n",
    "print(V)\n",
    "\n",
    "n = len(U)\n",
    "m = len(V)\n",
    "\n",
    "fullDecomposition = np.zeros_like(A)\n",
    "for i in range(n):\n",
    "    fullDecomposition += d[i] * np.outer(U[i] , V[i]) \n",
    "    \n",
    "approxs = [d[i] * np.outer(U[i] , V[i]) for i in range(n)]\n",
    "\n",
    "errorSvd = error(fullDecomposition, A)\n",
    "print(\"error svd    : %f\"  % errorSvd)\n",
    "for i in range(min(4,n)):\n",
    "    errorApprox = error(approxs[i], A)\n",
    "    print(\"approximation %i error    : %f\"  % (i, errorApprox))"
   ]
  },
  {
   "cell_type": "markdown",
   "id": "f5cb4f44",
   "metadata": {},
   "source": [
    "# Random approximations"
   ]
  },
  {
   "cell_type": "code",
   "execution_count": 7,
   "id": "60a12db2",
   "metadata": {},
   "outputs": [
    {
     "name": "stdout",
     "output_type": "stream",
     "text": [
      "error svd    : 0.000000\n",
      "svd best approximation error    : 0.021997\n",
      "error with 0 matrix : 0.257847\n",
      "smallest error random : 0.177746\n"
     ]
    }
   ],
   "source": [
    "bestE = np.inf\n",
    "bestU = None\n",
    "bestV = None\n",
    "bestd = None\n",
    "errs = []\n",
    "reproductions = 1000\n",
    "\n",
    "for _ in range(reproductions):\n",
    "    UU = np.random.rand(n)\n",
    "    UU = (1.0 / np.sqrt(error(UU, 0))) * UU\n",
    "    VV = np.random.rand(m)\n",
    "    VV = (1.0 / np.sqrt(error(VV, 0))) * VV\n",
    "    for dd in np.linspace(0.1, 100, num=100):\n",
    "        app = dd * np.outer(UU,VV)\n",
    "        err = error(app, A)\n",
    "        errs.append(err)\n",
    "        if err < bestE:\n",
    "            bestE = err\n",
    "            bestU = UU \n",
    "            bestV = VV\n",
    "            bestd = dd\n",
    "print(\"error svd    : %f\"  % errorSvd)\n",
    "print(\"svd best approximation error    : %f\"  % error(approxs[0], A))\n",
    "print(\"error with 0 matrix : %f\"  %error(np.zeros_like(A), A))\n",
    "print(\"smallest error random : %f\"  % bestE)"
   ]
  },
  {
   "cell_type": "markdown",
   "id": "cfb46bb6",
   "metadata": {},
   "source": [
    "# Display results"
   ]
  },
  {
   "cell_type": "code",
   "execution_count": 8,
   "id": "136d1e87",
   "metadata": {},
   "outputs": [],
   "source": [
    "from matplotlib import pyplot as plt"
   ]
  },
  {
   "cell_type": "code",
   "execution_count": 9,
   "id": "684fbe61",
   "metadata": {},
   "outputs": [],
   "source": [
    "params = {\n",
    "  'axes.labelsize': 20,\n",
    "  'font.size': 18,\n",
    "  'legend.fontsize': 12,\n",
    "  'xtick.labelsize': 20,\n",
    "  'ytick.labelsize': 20,\n",
    "  'text.usetex': True,\n",
    "  'figure.figsize': [8, 6],\n",
    "  'text.latex.preamble': r'\\usepackage{amsmath} \\usepackage{amssymb}',\n",
    "   }\n",
    "plt.rcParams.update(params)"
   ]
  },
  {
   "cell_type": "code",
   "execution_count": null,
   "id": "5682ff9d",
   "metadata": {},
   "outputs": [],
   "source": []
  },
  {
   "cell_type": "code",
   "execution_count": 10,
   "id": "2165cd65",
   "metadata": {},
   "outputs": [
    {
     "data": {
      "image/png": "[encoded data removed]",
      "text/plain": [
       "<Figure size 800x600 with 1 Axes>"
      ]
     },
     "metadata": {},
     "output_type": "display_data"
    }
   ],
   "source": [
    "hist, bins, _ = plt.hist(errs, label=\"Random initialisation\")\n",
    "logbins = np.logspace(np.log10(bins[0]),np.log10(bins[-1]),len(bins))\n",
    "plt.close()\n",
    "\n",
    "hist, bins, _ = plt.hist(errs, label=\"Random initialisation\", bins=logbins)\n",
    "plt.vlines(error(approxs[0], A), ymin=0, ymax=20000, color=\"green\", label=\"1st term of SVD\", linestyle=\"dashed\", linewidth=2.0)\n",
    "plt.vlines(error(approxs[1], A), ymin=0, ymax=20000, color=\"black\", label=\"2nd term of SVD\", linestyle=\"dashdot\", linewidth=4.0)\n",
    "plt.vlines(error(np.zeros_like(A), A), ymin=0, ymax=20000, color=\"magenta\", label=\"Zero matrix\", linestyle=\"dashed\", linewidth=3.0)\n",
    "\n",
    "\n",
    "\n",
    "plt.xlabel(\"Error \\large ($\\sum_{i,j} (A_{i,j} - \\hat{A}_{i,j})^2 $)\")\n",
    "plt.xscale('log')\n",
    "plt.ylabel(\"Frequency\")\n",
    "plt.grid()\n",
    "plt.title(\"Comparison of SVD and random initialisation.\")\n",
    "plt.legend(loc=\"upper left\")\n",
    "plt.savefig(\"svd-results.pdf\")\n",
    "plt.show()\n",
    "plt.close()"
   ]
  },
  {
   "cell_type": "code",
   "execution_count": null,
   "id": "91ef822b",
   "metadata": {},
   "outputs": [],
   "source": []
  }
 ],
 "metadata": {
  "kernelspec": {
   "display_name": "Python 3 (ipykernel)",
   "language": "python",
   "name": "python3"
  },
  "language_info": {
   "codemirror_mode": {
    "name": "ipython",
    "version": 3
   },
   "file_extension": ".py",
   "mimetype": "text/x-python",
   "name": "python",
   "nbconvert_exporter": "python",
   "pygments_lexer": "ipython3",
   "version": "3.9.12"
  }
 },
 "nbformat": 4,
 "nbformat_minor": 5
}

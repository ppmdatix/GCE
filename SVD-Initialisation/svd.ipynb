{
 "cells": [
  {
   "cell_type": "markdown",
   "id": "3d251640",
   "metadata": {},
   "source": [
    "# Imports"
   ]
  },
  {
   "cell_type": "code",
   "execution_count": 47,
   "id": "59912717",
   "metadata": {},
   "outputs": [],
   "source": [
    "import pandas as pd\n",
    "import numpy as np\n",
    "from scipy.linalg import svd"
   ]
  },
  {
   "cell_type": "markdown",
   "id": "4cc21fbc",
   "metadata": {},
   "source": [
    "# Data loading"
   ]
  },
  {
   "cell_type": "code",
   "execution_count": 48,
   "id": "909d68ee",
   "metadata": {},
   "outputs": [],
   "source": [
    "items = pd.read_csv(\"Tables/18072022ItemsFAKE.csv\")\n",
    "sales = pd.read_csv(\"Tables/18072022SalesFAKE.csv\")"
   ]
  },
  {
   "cell_type": "markdown",
   "id": "b8655ddc",
   "metadata": {},
   "source": [
    "# Creating on big raw table.\n",
    "\n",
    "(This is what we want to avoid thanks to query differentiation)"
   ]
  },
  {
   "cell_type": "code",
   "execution_count": 49,
   "id": "44af54ed",
   "metadata": {},
   "outputs": [],
   "source": [
    "mergedSales = sales.merge(items, on='Id', how='right')"
   ]
  },
  {
   "cell_type": "markdown",
   "id": "2949dd72",
   "metadata": {},
   "source": [
    "## Turning the table into a matrix for SVD"
   ]
  },
  {
   "cell_type": "code",
   "execution_count": 50,
   "id": "9aecaffa",
   "metadata": {},
   "outputs": [],
   "source": [
    "table = pd.pivot_table(mergedSales, index='feature-H', columns='feature-I', values='Quantity')\n",
    "table.fillna(0,inplace=True)\n",
    "A = table.values"
   ]
  },
  {
   "cell_type": "code",
   "execution_count": 51,
   "id": "91318d1e",
   "metadata": {},
   "outputs": [],
   "source": [
    "def error(M, A):\n",
    "    return np.sum(np.square(M-A))"
   ]
  },
  {
   "cell_type": "markdown",
   "id": "be582c50",
   "metadata": {},
   "source": [
    "## SVD"
   ]
  },
  {
   "cell_type": "code",
   "execution_count": 52,
   "id": "f19d1dcb",
   "metadata": {},
   "outputs": [
    {
     "name": "stdout",
     "output_type": "stream",
     "text": [
      "d:\n",
      "[5.56473115 0.95219144 0.80845255 0.03658795 0.0123266 ]\n",
      "\n",
      "U:\n",
      "[[-0.5150576  -0.06684284 -0.50669072 -0.46024037 -0.51155744]\n",
      " [ 0.14262666 -0.91313723  0.13466021 -0.32936193  0.13865564]\n",
      " [ 0.22616249  0.40204229  0.23863288 -0.82438247  0.22507868]\n",
      " [ 0.81429039  0.00590029 -0.3994547  -0.00432619 -0.42108618]\n",
      " [ 0.01244954  0.00629438 -0.713177   -0.00862207  0.70079213]]\n",
      "\n",
      "V:\n",
      "[[-3.71962456e-01 -3.59673146e-01 -3.61642221e-01 -3.62773538e-01\n",
      "  -3.66299581e-01 -2.76210872e-01 -3.60032836e-01 -3.60274829e-01]\n",
      " [-8.69481456e-01  9.23145598e-02  9.26640665e-02  9.81959624e-02\n",
      "   9.01133092e-02  4.37912313e-01  9.39247907e-02  9.24201015e-02]\n",
      " [ 3.25032117e-01 -1.64394488e-01 -1.65783156e-01 -1.52571360e-01\n",
      "  -1.78140263e-01  8.55354364e-01 -1.61337156e-01 -1.64838653e-01]\n",
      " [ 2.15879457e-04 -2.85840368e-01 -2.04444400e-01  3.66978160e-01\n",
      "  -1.72565082e-01 -9.51046444e-03  7.28977551e-01 -4.24908611e-01]\n",
      " [ 7.75882828e-05 -3.08206108e-01 -2.40447747e-01 -6.08319981e-01\n",
      "   5.24815184e-01  1.25671815e-02  3.80879441e-01  2.37660705e-01]\n",
      " [-8.43311236e-17  7.43086342e-01 -6.37588875e-01 -8.49501829e-02\n",
      "   5.95804548e-02  1.19462793e-03  7.84211889e-02 -1.56158384e-01]\n",
      " [-7.49609987e-17  2.85143796e-01  3.76980675e-01 -5.26561525e-01\n",
      "  -5.85810086e-01 -3.65783708e-04  3.87882602e-01  7.53992224e-02]\n",
      " [ 0.00000000e+00 -1.57821687e-01 -4.29997193e-01  2.15093354e-01\n",
      "  -4.17177759e-01 -7.70251802e-03  4.94428724e-02  7.53251863e-01]]\n",
      "error svd    : 0.000000\n",
      "approximation 0 error    : 1.561755\n",
      "approximation 1 error    : 31.621319\n",
      "approximation 2 error    : 31.874392\n",
      "approximation 3 error    : 32.526649\n"
     ]
    }
   ],
   "source": [
    "U, d, V = svd(A, full_matrices=True)\n",
    "U = np.transpose(U)\n",
    "\n",
    "print(\"d:\")\n",
    "print(d)\n",
    "print(\"\\nU:\")\n",
    "print(U)\n",
    "print(\"\\nV:\")\n",
    "print(V)\n",
    "\n",
    "n = len(U)\n",
    "m = len(V)\n",
    "\n",
    "fullDecomposition = np.zeros_like(A)\n",
    "for i in range(n):\n",
    "    fullDecomposition += d[i] * np.outer(U[i] , V[i]) \n",
    "    \n",
    "approxs = [d[i] * np.outer(U[i] , V[i]) for i in range(n)]\n",
    "\n",
    "errorSvd = error(fullDecomposition, A)\n",
    "print(\"error svd    : %f\"  % errorSvd)\n",
    "for i in range(min(4,n)):\n",
    "    errorApprox = error(approxs[i], A)\n",
    "    print(\"approximation %i error    : %f\"  % (i, errorApprox))"
   ]
  },
  {
   "cell_type": "markdown",
   "id": "f5cb4f44",
   "metadata": {},
   "source": [
    "# Random approximations"
   ]
  },
  {
   "cell_type": "code",
   "execution_count": 53,
   "id": "60a12db2",
   "metadata": {},
   "outputs": [
    {
     "name": "stdout",
     "output_type": "stream",
     "text": [
      "error svd    : 0.000000\n",
      "svd best approximation error    : 1.561755\n",
      "error with 0 matrix : 32.527988\n",
      "smallest error random : 3.104668\n"
     ]
    }
   ],
   "source": [
    "bestE = np.inf\n",
    "bestU = None\n",
    "bestV = None\n",
    "bestd = None\n",
    "errs = []\n",
    "reproductions = 1000\n",
    "\n",
    "for _ in range(reproductions):\n",
    "    UU = np.random.rand(n)\n",
    "    UU = (1.0 / np.sqrt(error(UU, 0))) * UU\n",
    "    VV = np.random.rand(m)\n",
    "    VV = (1.0 / np.sqrt(error(VV, 0))) * VV\n",
    "    for dd in np.linspace(0.1, 100, num=100):\n",
    "        app = dd * np.outer(UU,VV)\n",
    "        err = error(app, A)\n",
    "        errs.append(err)\n",
    "        if err < bestE:\n",
    "            bestE = err\n",
    "            bestU = UU \n",
    "            bestV = VV\n",
    "            bestd = dd\n",
    "print(\"error svd    : %f\"  % errorSvd)\n",
    "print(\"svd best approximation error    : %f\"  % error(approxs[0], A))\n",
    "print(\"error with 0 matrix : %f\"  %error(np.zeros_like(A), A))\n",
    "print(\"smallest error random : %f\"  % bestE)"
   ]
  },
  {
   "cell_type": "markdown",
   "id": "cfb46bb6",
   "metadata": {},
   "source": [
    "# Display results"
   ]
  },
  {
   "cell_type": "code",
   "execution_count": 54,
   "id": "136d1e87",
   "metadata": {},
   "outputs": [],
   "source": [
    "from matplotlib import pyplot as plt"
   ]
  },
  {
   "cell_type": "code",
   "execution_count": 55,
   "id": "684fbe61",
   "metadata": {},
   "outputs": [],
   "source": [
    "params = {\n",
    "  'axes.labelsize': 20,\n",
    "  'font.size': 18,\n",
    "  'legend.fontsize': 12,\n",
    "  'xtick.labelsize': 20,\n",
    "  'ytick.labelsize': 20,\n",
    "  'text.usetex': True,\n",
    "  'figure.figsize': [8, 6],\n",
    "  'text.latex.preamble': r'\\usepackage{amsmath} \\usepackage{amssymb}',\n",
    "   }\n",
    "plt.rcParams.update(params)"
   ]
  },
  {
   "cell_type": "code",
   "execution_count": null,
   "id": "5682ff9d",
   "metadata": {},
   "outputs": [],
   "source": []
  },
  {
   "cell_type": "code",
   "execution_count": 57,
   "id": "2165cd65",
   "metadata": {},
   "outputs": [
    {
     "data": {
      "image/png": "[encoded data removed]",
      "text/plain": [
       "<Figure size 800x600 with 1 Axes>"
      ]
     },
     "metadata": {},
     "output_type": "display_data"
    }
   ],
   "source": [
    "hist, bins, _ = plt.hist(errs, label=\"Random initialisation\")\n",
    "logbins = np.logspace(np.log10(bins[0]),np.log10(bins[-1]),len(bins))\n",
    "plt.close()\n",
    "\n",
    "hist, bins, _ = plt.hist(errs, label=\"Random initialisation\", bins=logbins)\n",
    "plt.vlines(error(approxs[0], A), ymin=0, ymax=20000, color=\"green\", label=\"1st term of SVD\", linestyle=\"dashed\", linewidth=2.0)\n",
    "plt.vlines(error(approxs[1], A), ymin=0, ymax=20000, color=\"black\", label=\"2nd term of SVD\", linestyle=\"dashdot\", linewidth=4.0)\n",
    "plt.vlines(error(np.zeros_like(A), A), ymin=0, ymax=20000, color=\"magenta\", label=\"Zero matrix\", linestyle=\"dashed\", linewidth=3.0)\n",
    "\n",
    "\n",
    "\n",
    "plt.xlabel(\"Error \\large ($\\sum_{i,j} (A_{i,j} - \\hat{A}_{i,j})^2 $)\")\n",
    "plt.xscale('log')\n",
    "plt.ylabel(\"Frequency\")\n",
    "plt.grid()\n",
    "plt.title(\"Comparison of SVD and random initialisation.\")\n",
    "plt.legend(loc=\"upper left\")\n",
    "plt.savefig(\"svd-results.pdf\")\n",
    "plt.show()\n",
    "plt.close()"
   ]
  },
  {
   "cell_type": "code",
   "execution_count": null,
   "id": "ef127102",
   "metadata": {},
   "outputs": [],
   "source": []
  }
 ],
 "metadata": {
  "kernelspec": {
   "display_name": "Python 3 (ipykernel)",
   "language": "python",
   "name": "python3"
  },
  "language_info": {
   "codemirror_mode": {
    "name": "ipython",
    "version": 3
   },
   "file_extension": ".py",
   "mimetype": "text/x-python",
   "name": "python",
   "nbconvert_exporter": "python",
   "pygments_lexer": "ipython3",
   "version": "3.9.12"
  }
 },
 "nbformat": 4,
 "nbformat_minor": 5
}

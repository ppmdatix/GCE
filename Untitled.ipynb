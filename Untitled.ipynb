{
 "cells": [
  {
   "cell_type": "code",
   "execution_count": 16,
   "id": "042c1183",
   "metadata": {},
   "outputs": [],
   "source": [
    "import pandas as pd\n",
    "import os\n",
    "import numpy as np"
   ]
  },
  {
   "cell_type": "code",
   "execution_count": 20,
   "id": "1fcaf79b",
   "metadata": {},
   "outputs": [
    {
     "name": "stdout",
     "output_type": "stream",
     "text": [
      "Adult_Income\n",
      "True: 0.128741 +- 0.003097\n",
      "False: 0.498465 +- 0.001898\n",
      "\n",
      "compas\n",
      "True: 0.039567 +- 0.017423\n",
      "False: 0.352292 +- 0.007448\n",
      "\n",
      "Dont_Get_Kicked\n",
      "True: 16217.586914 +- 1942.782433\n",
      "False: 19367.339062 +- 0.341750\n",
      "\n",
      "Forest_Cover\n",
      "True: 1.047275 +- 0.011250\n",
      "False: 1.967271 +- 0.001486\n",
      "\n",
      "KDD99\n",
      "Usedcarscatalog\n",
      "True: 0.717597 +- 0.005175\n",
      "False: 1.084813 +- 0.002606\n",
      "\n"
     ]
    }
   ],
   "source": [
    "results = {}\n",
    "for dir in os.listdir(\"results\"):\n",
    "    results[\"dir\"] = dict()\n",
    "    path = \"results/\" + dir\n",
    "    print(dir)\n",
    "    files = os.listdir(path)\n",
    "    \n",
    "    pathFalse = \"modelresnet-epochs10-batch-size128-relational-batchFalse.csv\"\n",
    "    pathTrue = \"modelresnet-epochs10-batch-size128-relational-batchTrue.csv\"\n",
    "    \n",
    "    if pathTrue in files and pathFalse in files:\n",
    "    \n",
    "        dfTrue = pd.read_csv(path +\"/\" +  pathTrue)\n",
    "        dfFalse = pd.read_csv(path +\"/\" + pathFalse)\n",
    "        std = np.std(dfTrue.test)\n",
    "        meanTest = np.mean(dfTrue.test)\n",
    "\n",
    "        stdFalse = np.std(dfFalse.test)\n",
    "        meanTestFalse = np.mean(dfFalse.test)\n",
    "\n",
    "        print(\"True: %f +- %f\" % (meanTest, std))\n",
    "        print(\"False: %f +- %f\" % (meanTestFalse, stdFalse))\n",
    "        print()\n",
    "            "
   ]
  },
  {
   "cell_type": "code",
   "execution_count": null,
   "id": "95f60f16",
   "metadata": {},
   "outputs": [],
   "source": []
  }
 ],
 "metadata": {
  "kernelspec": {
   "display_name": "Python 3",
   "language": "python",
   "name": "python3"
  },
  "language_info": {
   "codemirror_mode": {
    "name": "ipython",
    "version": 3
   },
   "file_extension": ".py",
   "mimetype": "text/x-python",
   "name": "python",
   "nbconvert_exporter": "python",
   "pygments_lexer": "ipython3",
   "version": "3.8.8"
  }
 },
 "nbformat": 4,
 "nbformat_minor": 5
}

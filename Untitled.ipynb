{
 "cells": [
  {
   "cell_type": "code",
   "execution_count": 12,
   "id": "042c1183",
   "metadata": {},
   "outputs": [],
   "source": [
    "import pandas as pd\n",
    "import os\n",
    "import numpy as np"
   ]
  },
  {
   "cell_type": "code",
   "execution_count": 27,
   "id": "1fcaf79b",
   "metadata": {},
   "outputs": [
    {
     "name": "stdout",
     "output_type": "stream",
     "text": [
      "Adult_Income\n",
      "modelmlp-epochs10-batch-size128-relational-batchTrue.csv\n",
      "True: 0.434176 +- 0.063482\n",
      "False: 0.415252 +- 0.028466\n",
      "\n",
      "modelmlp-epochs10-batch-size64-relational-batchTrue.csv\n",
      "True: 0.420823 +- 0.023198\n",
      "False: 0.433812 +- 0.035764\n",
      "\n",
      "modelmlp-epochs5-batch-size5-relational-batchTrue.csv\n",
      "True: 0.142265 +- 0.008980\n",
      "False: 0.143010 +- 0.016452\n",
      "\n",
      "Dont_Get_Kicked\n",
      "modelmlp-epochs5-batch-size5-relational-batchTrue.csv\n",
      "True: 12228.899414 +- 5205.448137\n",
      "False: 28747.412500 +- 0.089413\n",
      "\n",
      "Forest_Cover\n",
      "modelmlp-epochs10-batch-size128-relational-batchTrue.csv\n",
      "True: 1.783341 +- 0.120238\n",
      "False: 1.871364 +- 0.088243\n",
      "\n",
      "modelmlp-epochs10-batch-size64-relational-batchTrue.csv\n",
      "True: 1.795342 +- 0.115531\n",
      "False: 1.827280 +- 0.112154\n",
      "\n",
      "modelmlp-epochs20-batch-size128-relational-batchTrue.csv\n",
      "True: 1.664639 +- 0.183371\n",
      "False: 1.985361 +- 0.000377\n",
      "\n",
      "KDD99\n",
      "modelmlp-epochs10-batch-size128-relational-batchTrue.csv\n",
      "True: 0.328783 +- 0.061101\n",
      "False: 0.200442 +- 0.044982\n",
      "\n",
      "modelmlp-epochs10-batch-size64-relational-batchTrue.csv\n",
      "True: 0.190664 +- 0.037739\n",
      "False: 0.244403 +- 0.034621\n",
      "\n",
      "Usedcarscatalog\n",
      "modelmlp-epochs10-batch-size10-relational-batchTrue.csv\n",
      "True: 0.810884 +- 0.026496\n",
      "False: 0.822491 +- 0.054205\n",
      "\n",
      "modelmlp-epochs10-batch-size128-relational-batchTrue.csv\n",
      "True: 0.845544 +- 0.037256\n",
      "False: 0.845930 +- 0.069407\n",
      "\n",
      "modelmlp-epochs20-batch-size128-relational-batchTrue.csv\n",
      "True: 0.800723 +- 0.020264\n",
      "False: 1.088410 +- 0.000578\n",
      "\n"
     ]
    }
   ],
   "source": [
    "results = {}\n",
    "for dir in os.listdir(\"results\"):\n",
    "    results[\"dir\"] = dict()\n",
    "    path = \"results/\" + dir\n",
    "    k = 0\n",
    "    print(dir)\n",
    "    for file in os.listdir(path):\n",
    "        if file.endswith(\"True.csv\") and (\"mlp\" in file):\n",
    "            falsefile = file.replace(\"True\", \"False\")\n",
    "            \n",
    "            \n",
    "            try:\n",
    "                k += 1\n",
    "                dfTrue = pd.read_csv(path + \"/\" + file)\n",
    "                dfFalse = pd.read_csv(path + \"/\" + falsefile)\n",
    "                std = np.std(dfTrue.test)\n",
    "                meanTest = np.mean(dfTrue.test)\n",
    "\n",
    "                stdFalse = np.std(dfFalse.test)\n",
    "                meanTestFalse = np.mean(dfFalse.test)\n",
    "\n",
    "                print(file)\n",
    "                print(\"True: %f +- %f\" % (meanTest, std))\n",
    "                print(\"False: %f +- %f\" % (meanTestFalse, stdFalse))\n",
    "                print()\n",
    "                if k > 2: \n",
    "                    break\n",
    "            except:\n",
    "                pass\n",
    "            "
   ]
  },
  {
   "cell_type": "code",
   "execution_count": null,
   "id": "cffc8cc7",
   "metadata": {},
   "outputs": [],
   "source": []
  }
 ],
 "metadata": {
  "kernelspec": {
   "display_name": "Python 3",
   "language": "python",
   "name": "python3"
  },
  "language_info": {
   "codemirror_mode": {
    "name": "ipython",
    "version": 3
   },
   "file_extension": ".py",
   "mimetype": "text/x-python",
   "name": "python",
   "nbconvert_exporter": "python",
   "pygments_lexer": "ipython3",
   "version": "3.8.8"
  }
 },
 "nbformat": 4,
 "nbformat_minor": 5
}
